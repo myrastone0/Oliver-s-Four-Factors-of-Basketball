{
 "cells": [
  {
   "cell_type": "code",
   "execution_count": null,
   "metadata": {},
   "outputs": [],
   "source": [
    "years = np.arange(2000,2020,1).tolist()\n",
    "\n",
    "for year in years:\n",
    "    web_name = 'https://www.basketball-reference.com/leagues/NBA_'+str(year)+'_per_game.html'\n",
    "    website = request.urlopen(web_name).read()\n",
    "    soup = BeautifulSoup(website,'lxml')\n",
    "\n",
    "    table = soup.find('table', attrs={'class': 'sortable', 'id': 'per_game_stats'})\n",
    "    table_headers = [header.text for header in table.find('thead').find_all('th')]\n",
    "    table_rows = table.find_all('tr')\n",
    "\n",
    "    final_data = []\n",
    "    # For each table row,\n",
    "    for tr in table_rows:\n",
    "        # Make a list of the table data tags for this row\n",
    "        td = tr.find_all('td')\n",
    "        # Extract just the cell data and make a list\n",
    "        row = [tr.text for tr in td]\n",
    "        # Append the extracted data\n",
    "        final_data.append(row)\n",
    "\n",
    "\n",
    "    df = pd.DataFrame(final_data[1:], columns=table_headers[1:])\n",
    "    df.to_csv('../data/nba_stats_'+str(year)+'.csv')\n",
    "    \n",
    "    time.sleep(1)"
   ]
  },
  {
   "cell_type": "markdown",
   "metadata": {},
   "source": [
    "# Web Scraping in Python with BeautifulSoup: Collecting NBA Team Box Scores\n",
    "\n",
    "## Introduction\n",
    "\n",
    "This project uses Python and BeautifulSoup to scrape ESPN for the box scores of regular season games for NBA teams. The box score is a selected set of statistics which summarize the results of a game.\n",
    "\n",
    "This data will be useful for answering questions such as:\n",
    "- Which NBA statistics are actually useful for determining wins?\n",
    "- Can we predict whether a team will make the playoffs?\n",
    "- Can we predict whether a team will win a game?\n",
    "\n",
    "The answers to these questions will be the most useful to a team or a coach when trying to determine what aspects of gameplay to improve upon. If securing more offensive rebounds appears to be more important to winning a game than the percentage of successful free throws, then teams should be drilling rebounds instead of practicing free throws.\n",
    "\n",
    "\"**REWRITE** ...... In the sport of basketball, the box score is used to summarize/average the data of Games played (GP), Games started (GS), Minutes Played (MIN or MPG), Field-goals made (FGM), Field-goals attempted (FGA), Field-goal percentage (FG%), 3-pointers made (3PM), 3-pointers attempted (3PA), 3-point field goal (3P%), Free throws made (FTM), Free throws attempted (FTA), Free throw percentage (FT%), Offensive Rebounds (OREB), Defensive Rebounds (DREB), Total rebounds (REB), Assists (AST), Turnovers (TOV), Steals (STL), Blocked shots (BLK), Personal fouls (PF), Points scored (PTS), and Plus/Minus for Player efficiency (+/-).\""
   ]
  },
  {
   "cell_type": "markdown",
   "metadata": {},
   "source": [
    "## Scrape ESPN Team Page for Team Names\n",
    "\n",
    "First, we're going to need a list of the NBA teams, so let's look at the strucure of the ESPN website. The [teams page](https://www.espn.com/nba/teams) looks like the following:\n",
    "<img src=\"../images/espnTeamPage.png\"/>\n",
    "\n",
    "Inspection of the page shows that links for each team are in a section container with a 'pl3' class. \n",
    "<img src=\"../images/teamContainer.png\"/>\n",
    "So let's open the team page, parse it, and find all containers of that class."
   ]
  },
  {
   "cell_type": "code",
   "execution_count": 1,
   "metadata": {},
   "outputs": [],
   "source": [
    "import pandas as pd\n",
    "import numpy as np\n",
    "from bs4 import BeautifulSoup\n",
    "from urllib import request\n",
    "import time"
   ]
  },
  {
   "cell_type": "code",
   "execution_count": 2,
   "metadata": {},
   "outputs": [],
   "source": [
    "team_url = request.urlopen('http://www.espn.com/nba/teams').read()\n",
    "team_soup = BeautifulSoup(team_url,'lxml')\n",
    "team_containers = team_soup.find_all('div',{'class':'pl3'})"
   ]
  },
  {
   "cell_type": "markdown",
   "metadata": {},
   "source": [
    "To get the team name, we grab the text inside the \\<a\\> tag inside each team's section container. Then we'll get the abbreviation for each team by splitting on '/' in a team's URL and grabbing the 7th element. Next, we'll create a dictionary of the teams and their abbreviations. This will come in handy later."
   ]
  },
  {
   "cell_type": "code",
   "execution_count": 3,
   "metadata": {},
   "outputs": [],
   "source": [
    "team_names = [team.a.text for team in team_containers]\n",
    "team_abbrs = [team.find_all('a',href=True)[1]['href'].split('/')[6] for team in team_containers]\n",
    "teams = dict(zip(team_names,team_abbrs))"
   ]
  },
  {
   "cell_type": "markdown",
   "metadata": {},
   "source": [
    "Let's make sure we got all 30 teams."
   ]
  },
  {
   "cell_type": "code",
   "execution_count": 4,
   "metadata": {},
   "outputs": [
    {
     "name": "stdout",
     "output_type": "stream",
     "text": [
      "30\n"
     ]
    },
    {
     "data": {
      "text/plain": [
       "{'Boston Celtics': 'bos',\n",
       " 'Brooklyn Nets': 'bkn',\n",
       " 'New York Knicks': 'ny',\n",
       " 'Philadelphia 76ers': 'phi',\n",
       " 'Toronto Raptors': 'tor',\n",
       " 'Chicago Bulls': 'chi',\n",
       " 'Cleveland Cavaliers': 'cle',\n",
       " 'Detroit Pistons': 'det',\n",
       " 'Indiana Pacers': 'ind',\n",
       " 'Milwaukee Bucks': 'mil',\n",
       " 'Denver Nuggets': 'den',\n",
       " 'Minnesota Timberwolves': 'min',\n",
       " 'Oklahoma City Thunder': 'okc',\n",
       " 'Portland Trail Blazers': 'por',\n",
       " 'Utah Jazz': 'utah',\n",
       " 'Golden State Warriors': 'gs',\n",
       " 'LA Clippers': 'lac',\n",
       " 'Los Angeles Lakers': 'lal',\n",
       " 'Phoenix Suns': 'phx',\n",
       " 'Sacramento Kings': 'sac',\n",
       " 'Atlanta Hawks': 'atl',\n",
       " 'Charlotte Hornets': 'cha',\n",
       " 'Miami Heat': 'mia',\n",
       " 'Orlando Magic': 'orl',\n",
       " 'Washington Wizards': 'wsh',\n",
       " 'Dallas Mavericks': 'dal',\n",
       " 'Houston Rockets': 'hou',\n",
       " 'Memphis Grizzlies': 'mem',\n",
       " 'New Orleans Pelicans': 'no',\n",
       " 'San Antonio Spurs': 'sa'}"
      ]
     },
     "execution_count": 4,
     "metadata": {},
     "output_type": "execute_result"
    }
   ],
   "source": [
    "print(len(teams))\n",
    "teams"
   ]
  },
  {
   "cell_type": "markdown",
   "metadata": {},
   "source": [
    "## Scraping ESPN Team Schedule Page for Game IDs\n",
    "\n",
    "The page containing a game's box score is of the following format:<br>\n",
    "https://www.espn.com/nba/matchup?gameId=401070218.<br>\n",
    "So we need to get a list of all the game IDs. We do this by looking at the schedule page of each team.\n",
    "\n",
    "A team's regular season schedule is listed on a URL with the following format: https://www.espn.com/nba/team/schedule/_/name/ABBR/season/YEAR/seasontype/2, where ABBR (team abbreviation) and YEAR are our variables of interest."
   ]
  },
  {
   "cell_type": "code",
   "execution_count": 5,
   "metadata": {},
   "outputs": [],
   "source": [
    "year = '2019'\n",
    "team_abbr = 'gs'"
   ]
  },
  {
   "cell_type": "code",
   "execution_count": 6,
   "metadata": {},
   "outputs": [],
   "source": [
    "schedule_url = request.urlopen('https://www.espn.com/nba/team/schedule/_/name/'+team_abbr+'/season/'+year+'/seasontype/2').read()\n",
    "schedule_soup = BeautifulSoup(schedule_url,'lxml')"
   ]
  },
  {
   "cell_type": "markdown",
   "metadata": {},
   "source": [
    "Each game has an ID and it is found inside the \\<span\\> element with an 'ml4' class."
   ]
  },
  {
   "cell_type": "code",
   "execution_count": 7,
   "metadata": {},
   "outputs": [],
   "source": [
    "games = schedule_soup.find_all('span', attrs={'class':'ml4'})\n",
    "game_ids = [game.find_all('a',href=True)[0]['href'].split('=')[1] for game in games]"
   ]
  },
  {
   "cell_type": "markdown",
   "metadata": {},
   "source": [
    "Let's make sure we got all 82 regular season games."
   ]
  },
  {
   "cell_type": "code",
   "execution_count": 8,
   "metadata": {},
   "outputs": [
    {
     "data": {
      "text/plain": [
       "82"
      ]
     },
     "execution_count": 8,
     "metadata": {},
     "output_type": "execute_result"
    }
   ],
   "source": [
    "len(game_ids)"
   ]
  },
  {
   "cell_type": "code",
   "execution_count": null,
   "metadata": {},
   "outputs": [],
   "source": [
    "# FROM THE SCHEDULE PAGE I ALSO WANT TO GET THE OPPONENT NAME AND WHETHER IT WAS A HOME (VS) OR \n",
    "# AN AWAY (@) GAME FOR THE TEAM"
   ]
  },
  {
   "cell_type": "code",
   "execution_count": 9,
   "metadata": {},
   "outputs": [],
   "source": [
    "game_id = game_ids[0]\n",
    "box_url = request.urlopen('https://www.espn.com/nba/matchup?gameId='+game_id)\n",
    "box_soup = BeautifulSoup(box_url,'lxml')"
   ]
  },
  {
   "cell_type": "code",
   "execution_count": 13,
   "metadata": {},
   "outputs": [
    {
     "data": {
      "text/plain": [
       "[<table class=\"mod-data\">\n",
       " <thead>\n",
       " <tr class=\"header\">\n",
       " <th>Matchup</th>\n",
       " <th>\n",
       " <img src=\"https://a.espncdn.com/combiner/i?img=/i/teamlogos/nba/500/okc.png&amp;h=100&amp;w=100\"/>\n",
       " </th>\n",
       " <th>\n",
       " <img src=\"https://a.espncdn.com/combiner/i?img=/i/teamlogos/nba/500/gs.png&amp;h=100&amp;w=100\"/>\n",
       " </th>\n",
       " </tr>\n",
       " </thead>\n",
       " <tbody>\n",
       " <tr class=\"highlight\" data-stat-attr=\"fieldGoalsMade-fieldGoalsAttempted\">\n",
       " <td>\n",
       " \t\t\t\t\t\t\t\t\tFG\n",
       " \t\t\t\t\t\t\t\t</td>\n",
       " <td>\n",
       " \t\t\t\t\t\t\t\t\t33-91\n",
       " \t\t\t\t\t\t\t\t</td>\n",
       " <td>\n",
       " \t\t\t\t\t\t\t\t\t42-95\n",
       " \t\t\t\t\t\t\t\t</td>\n",
       " </tr>\n",
       " <tr class=\"highlight\" data-stat-attr=\"fieldGoalPct\">\n",
       " <td>\n",
       " \t\t\t\t\t\t\t\t\tField Goal %\n",
       " \t\t\t\t\t\t\t\t</td>\n",
       " <td>\n",
       " \t\t\t\t\t\t\t\t\t36.3\n",
       " \t\t\t\t\t\t\t\t</td>\n",
       " <td>\n",
       " \t\t\t\t\t\t\t\t\t44.2\n",
       " \t\t\t\t\t\t\t\t</td>\n",
       " </tr>\n",
       " <tr class=\"highlight\" data-stat-attr=\"threePointFieldGoalsMade-threePointFieldGoalsAttempted\">\n",
       " <td>\n",
       " \t\t\t\t\t\t\t\t\t3PT\n",
       " \t\t\t\t\t\t\t\t</td>\n",
       " <td>\n",
       " \t\t\t\t\t\t\t\t\t10-37\n",
       " \t\t\t\t\t\t\t\t</td>\n",
       " <td>\n",
       " \t\t\t\t\t\t\t\t\t7-26\n",
       " \t\t\t\t\t\t\t\t</td>\n",
       " </tr>\n",
       " <tr class=\"highlight\" data-stat-attr=\"threePointFieldGoalPct\">\n",
       " <td>\n",
       " \t\t\t\t\t\t\t\t\tThree Point %\n",
       " \t\t\t\t\t\t\t\t</td>\n",
       " <td>\n",
       " \t\t\t\t\t\t\t\t\t27.0\n",
       " \t\t\t\t\t\t\t\t</td>\n",
       " <td>\n",
       " \t\t\t\t\t\t\t\t\t26.9\n",
       " \t\t\t\t\t\t\t\t</td>\n",
       " </tr>\n",
       " <tr class=\"highlight\" data-stat-attr=\"freeThrowsMade-freeThrowsAttempted\">\n",
       " <td>\n",
       " \t\t\t\t\t\t\t\t\tFT\n",
       " \t\t\t\t\t\t\t\t</td>\n",
       " <td>\n",
       " \t\t\t\t\t\t\t\t\t24-37\n",
       " \t\t\t\t\t\t\t\t</td>\n",
       " <td>\n",
       " \t\t\t\t\t\t\t\t\t17-18\n",
       " \t\t\t\t\t\t\t\t</td>\n",
       " </tr>\n",
       " <tr class=\"highlight\" data-stat-attr=\"freeThrowPct\">\n",
       " <td>\n",
       " \t\t\t\t\t\t\t\t\tFree Throw %\n",
       " \t\t\t\t\t\t\t\t</td>\n",
       " <td>\n",
       " \t\t\t\t\t\t\t\t\t64.9\n",
       " \t\t\t\t\t\t\t\t</td>\n",
       " <td>\n",
       " \t\t\t\t\t\t\t\t\t94.4\n",
       " \t\t\t\t\t\t\t\t</td>\n",
       " </tr>\n",
       " <tr class=\"highlight\" data-stat-attr=\"totalRebounds\">\n",
       " <td>\n",
       " \t\t\t\t\t\t\t\t\tRebounds\n",
       " \t\t\t\t\t\t\t\t</td>\n",
       " <td>\n",
       " \t\t\t\t\t\t\t\t\t59\n",
       " \t\t\t\t\t\t\t\t</td>\n",
       " <td>\n",
       " \t\t\t\t\t\t\t\t\t66\n",
       " \t\t\t\t\t\t\t\t</td>\n",
       " </tr>\n",
       " <tr class=\"indent\" data-stat-attr=\"offensiveRebounds\">\n",
       " <td>\n",
       " \t\t\t\t\t\t\t\t\tOffensive Rebounds\n",
       " \t\t\t\t\t\t\t\t</td>\n",
       " <td>\n",
       " \t\t\t\t\t\t\t\t\t16\n",
       " \t\t\t\t\t\t\t\t</td>\n",
       " <td>\n",
       " \t\t\t\t\t\t\t\t\t17\n",
       " \t\t\t\t\t\t\t\t</td>\n",
       " </tr>\n",
       " <tr class=\"indent\" data-stat-attr=\"defensiveRebounds\">\n",
       " <td>\n",
       " \t\t\t\t\t\t\t\t\tDefensive Rebounds\n",
       " \t\t\t\t\t\t\t\t</td>\n",
       " <td>\n",
       " \t\t\t\t\t\t\t\t\t29\n",
       " \t\t\t\t\t\t\t\t</td>\n",
       " <td>\n",
       " \t\t\t\t\t\t\t\t\t41\n",
       " \t\t\t\t\t\t\t\t</td>\n",
       " </tr>\n",
       " <tr class=\"highlight\" data-stat-attr=\"assists\">\n",
       " <td>\n",
       " \t\t\t\t\t\t\t\t\tAssists\n",
       " \t\t\t\t\t\t\t\t</td>\n",
       " <td>\n",
       " \t\t\t\t\t\t\t\t\t21\n",
       " \t\t\t\t\t\t\t\t</td>\n",
       " <td>\n",
       " \t\t\t\t\t\t\t\t\t28\n",
       " \t\t\t\t\t\t\t\t</td>\n",
       " </tr>\n",
       " <tr class=\"highlight\" data-stat-attr=\"steals\">\n",
       " <td>\n",
       " \t\t\t\t\t\t\t\t\tSteals\n",
       " \t\t\t\t\t\t\t\t</td>\n",
       " <td>\n",
       " \t\t\t\t\t\t\t\t\t12\n",
       " \t\t\t\t\t\t\t\t</td>\n",
       " <td>\n",
       " \t\t\t\t\t\t\t\t\t7\n",
       " \t\t\t\t\t\t\t\t</td>\n",
       " </tr>\n",
       " <tr class=\"highlight\" data-stat-attr=\"blocks\">\n",
       " <td>\n",
       " \t\t\t\t\t\t\t\t\tBlocks\n",
       " \t\t\t\t\t\t\t\t</td>\n",
       " <td>\n",
       " \t\t\t\t\t\t\t\t\t6\n",
       " \t\t\t\t\t\t\t\t</td>\n",
       " <td>\n",
       " \t\t\t\t\t\t\t\t\t7\n",
       " \t\t\t\t\t\t\t\t</td>\n",
       " </tr>\n",
       " <tr class=\"highlight\" data-stat-attr=\"totalTurnovers\">\n",
       " <td>\n",
       " \t\t\t\t\t\t\t\t\tTotal Turnovers\n",
       " \t\t\t\t\t\t\t\t</td>\n",
       " <td>\n",
       " \t\t\t\t\t\t\t\t\t15\n",
       " \t\t\t\t\t\t\t\t</td>\n",
       " <td>\n",
       " \t\t\t\t\t\t\t\t\t21\n",
       " \t\t\t\t\t\t\t\t</td>\n",
       " </tr>\n",
       " <tr class=\"indent\" data-stat-attr=\"turnoverPoints\">\n",
       " <td>\n",
       " \t\t\t\t\t\t\t\t\tPoints Off Turnovers\n",
       " \t\t\t\t\t\t\t\t</td>\n",
       " <td>\n",
       " \t\t\t\t\t\t\t\t\t16\n",
       " \t\t\t\t\t\t\t\t</td>\n",
       " <td>\n",
       " \t\t\t\t\t\t\t\t\t19\n",
       " \t\t\t\t\t\t\t\t</td>\n",
       " </tr>\n",
       " <tr class=\"highlight\" data-stat-attr=\"fastBreakPoints\">\n",
       " <td>\n",
       " \t\t\t\t\t\t\t\t\tFast Break Points\n",
       " \t\t\t\t\t\t\t\t</td>\n",
       " <td>\n",
       " \t\t\t\t\t\t\t\t\t10\n",
       " \t\t\t\t\t\t\t\t</td>\n",
       " <td>\n",
       " \t\t\t\t\t\t\t\t\t13\n",
       " \t\t\t\t\t\t\t\t</td>\n",
       " </tr>\n",
       " <tr class=\"highlight\" data-stat-attr=\"pointsInPaint\">\n",
       " <td>\n",
       " \t\t\t\t\t\t\t\t\tPoints in Paint\n",
       " \t\t\t\t\t\t\t\t</td>\n",
       " <td>\n",
       " \t\t\t\t\t\t\t\t\t34\n",
       " \t\t\t\t\t\t\t\t</td>\n",
       " <td>\n",
       " \t\t\t\t\t\t\t\t\t58\n",
       " \t\t\t\t\t\t\t\t</td>\n",
       " </tr>\n",
       " <tr class=\"highlight\" data-stat-attr=\"fouls\">\n",
       " <td>\n",
       " \t\t\t\t\t\t\t\t\tFouls\n",
       " \t\t\t\t\t\t\t\t</td>\n",
       " <td>\n",
       " \t\t\t\t\t\t\t\t\t21\n",
       " \t\t\t\t\t\t\t\t</td>\n",
       " <td>\n",
       " \t\t\t\t\t\t\t\t\t29\n",
       " \t\t\t\t\t\t\t\t</td>\n",
       " </tr>\n",
       " <tr class=\"indent\" data-stat-attr=\"technicalFouls\">\n",
       " <td>\n",
       " \t\t\t\t\t\t\t\t\tTechnical Fouls\n",
       " \t\t\t\t\t\t\t\t</td>\n",
       " <td>\n",
       " \t\t\t\t\t\t\t\t\t0\n",
       " \t\t\t\t\t\t\t\t</td>\n",
       " <td>\n",
       " \t\t\t\t\t\t\t\t\t0\n",
       " \t\t\t\t\t\t\t\t</td>\n",
       " </tr>\n",
       " <tr class=\"indent\" data-stat-attr=\"flagrantFouls\">\n",
       " <td>\n",
       " \t\t\t\t\t\t\t\t\tFlagrant Fouls\n",
       " \t\t\t\t\t\t\t\t</td>\n",
       " <td>\n",
       " \t\t\t\t\t\t\t\t\t0\n",
       " \t\t\t\t\t\t\t\t</td>\n",
       " <td>\n",
       " \t\t\t\t\t\t\t\t\t0\n",
       " \t\t\t\t\t\t\t\t</td>\n",
       " </tr>\n",
       " <tr class=\"highlight\" data-stat-attr=\"largestLead\">\n",
       " <td>\n",
       " \t\t\t\t\t\t\t\t\tLargest Lead\n",
       " \t\t\t\t\t\t\t\t</td>\n",
       " <td>\n",
       " \t\t\t\t\t\t\t\t\t3\n",
       " \t\t\t\t\t\t\t\t</td>\n",
       " <td>\n",
       " \t\t\t\t\t\t\t\t\t14\n",
       " \t\t\t\t\t\t\t\t</td>\n",
       " </tr>\n",
       " </tbody>\n",
       " </table>,\n",
       " <table class=\"mod-data\"><thead><tr><th class=\"left\" scope=\"col\" title=\"team\">TEAM</th><th class=\"right\" scope=\"col\" title=\"W\">W</th><th class=\"right\" scope=\"col\" title=\"L\">L</th><th class=\"right\" scope=\"col\" title=\"PCT\">PCT</th><th class=\"right\" scope=\"col\" title=\"GB\">GB</th><th class=\"right\" scope=\"col\" title=\"STRK\">STRK</th></tr></thead><tbody><tr class=\"\"><td><a data-clubhouse-uid=\"s:40~l:46~t:7\" href=\"/nba/team/_/name/den/denver-nuggets\" name=\"&amp;lpos=nba:teamclubhouse:standings:team\">Denver</a></td><td class=\"right\">46</td><td class=\"right\">27</td><td class=\"right\">.630</td><td class=\"right\">0</td><td class=\"right\">L3</td></tr><tr class=\"highlight\"><td><a data-clubhouse-uid=\"s:40~l:46~t:25\" href=\"/nba/team/_/name/okc/oklahoma-city-thunder\" name=\"&amp;lpos=nba:teamclubhouse:standings:team\">Oklahoma City</a></td><td class=\"right\">44</td><td class=\"right\">28</td><td class=\"right\">.611</td><td class=\"right\">1.5</td><td class=\"right\">L1</td></tr><tr class=\"\"><td><a data-clubhouse-uid=\"s:40~l:46~t:26\" href=\"/nba/team/_/name/utah/utah-jazz\" name=\"&amp;lpos=nba:teamclubhouse:standings:team\">Utah</a></td><td class=\"right\">44</td><td class=\"right\">28</td><td class=\"right\">.611</td><td class=\"right\">1.5</td><td class=\"right\">W1</td></tr><tr class=\"\"><td><a data-clubhouse-uid=\"s:40~l:46~t:22\" href=\"/nba/team/_/name/por/portland-trail-blazers\" name=\"&amp;lpos=nba:teamclubhouse:standings:team\">Portland</a></td><td class=\"right\">35</td><td class=\"right\">39</td><td class=\"right\">.473</td><td class=\"right\">11.5</td><td class=\"right\">W3</td></tr><tr class=\"\"><td><a data-clubhouse-uid=\"s:40~l:46~t:16\" href=\"/nba/team/_/name/min/minnesota-timberwolves\" name=\"&amp;lpos=nba:teamclubhouse:standings:team\">Minnesota</a></td><td class=\"right\">19</td><td class=\"right\">45</td><td class=\"right\">.297</td><td class=\"right\">22.5</td><td class=\"right\">L3</td></tr></tbody></table>,\n",
       " <table class=\"mod-data\"><thead><tr><th class=\"left\" scope=\"col\" title=\"team\">TEAM</th><th class=\"right\" scope=\"col\" title=\"W\">W</th><th class=\"right\" scope=\"col\" title=\"L\">L</th><th class=\"right\" scope=\"col\" title=\"PCT\">PCT</th><th class=\"right\" scope=\"col\" title=\"GB\">GB</th><th class=\"right\" scope=\"col\" title=\"STRK\">STRK</th></tr></thead><tbody><tr class=\"\"><td><a data-clubhouse-uid=\"s:40~l:46~t:13\" href=\"/nba/team/_/name/lal/los-angeles-lakers\" name=\"&amp;lpos=nba:teamclubhouse:standings:team\">LA Lakers</a></td><td class=\"right\">52</td><td class=\"right\">19</td><td class=\"right\">.732</td><td class=\"right\">0</td><td class=\"right\">L1</td></tr><tr class=\"\"><td><a data-clubhouse-uid=\"s:40~l:46~t:12\" href=\"/nba/team/_/name/lac/la-clippers\" name=\"&amp;lpos=nba:teamclubhouse:standings:team\">LA</a></td><td class=\"right\">49</td><td class=\"right\">23</td><td class=\"right\">.681</td><td class=\"right\">3.5</td><td class=\"right\">W2</td></tr><tr class=\"\"><td><a data-clubhouse-uid=\"s:40~l:46~t:21\" href=\"/nba/team/_/name/phx/phoenix-suns\" name=\"&amp;lpos=nba:teamclubhouse:standings:team\">Phoenix</a></td><td class=\"right\">34</td><td class=\"right\">39</td><td class=\"right\">.466</td><td class=\"right\">19</td><td class=\"right\">W8</td></tr><tr class=\"\"><td><a data-clubhouse-uid=\"s:40~l:46~t:23\" href=\"/nba/team/_/name/sac/sacramento-kings\" name=\"&amp;lpos=nba:teamclubhouse:standings:team\">Sacramento</a></td><td class=\"right\">31</td><td class=\"right\">41</td><td class=\"right\">.431</td><td class=\"right\">21.5</td><td class=\"right\">W2</td></tr><tr class=\"highlight\"><td><a data-clubhouse-uid=\"s:40~l:46~t:9\" href=\"/nba/team/_/name/gs/golden-state-warriors\" name=\"&amp;lpos=nba:teamclubhouse:standings:team\">Golden State</a></td><td class=\"right\">15</td><td class=\"right\">50</td><td class=\"right\">.231</td><td class=\"right\">34</td><td class=\"right\">L1</td></tr></tbody></table>]"
      ]
     },
     "execution_count": 13,
     "metadata": {},
     "output_type": "execute_result"
    }
   ],
   "source": [
    "box_soup.find_all('table',attrs={'class':'mod-data'})"
   ]
  },
  {
   "cell_type": "code",
   "execution_count": null,
   "metadata": {},
   "outputs": [],
   "source": []
  }
 ],
 "metadata": {
  "kernelspec": {
   "display_name": "Python 3",
   "language": "python",
   "name": "python3"
  },
  "language_info": {
   "codemirror_mode": {
    "name": "ipython",
    "version": 3
   },
   "file_extension": ".py",
   "mimetype": "text/x-python",
   "name": "python",
   "nbconvert_exporter": "python",
   "pygments_lexer": "ipython3",
   "version": "3.8.3"
  }
 },
 "nbformat": 4,
 "nbformat_minor": 4
}
