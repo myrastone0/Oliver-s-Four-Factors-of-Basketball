{
 "cells": [
  {
   "cell_type": "markdown",
   "metadata": {
    "jupyter": {
     "source_hidden": true
    }
   },
   "source": [
    "# Web Scraping in Python with BeautifulSoup: Collecting NBA Team Box Scores\n",
    "\n",
    "## Introduction\n",
    "\n",
    "This project uses Python and BeautifulSoup to scrape ESPN for the box scores of regular season games for NBA teams. The box score is a selected set of statistics which summarize the results of a game.\n",
    "\n",
    "This data will be useful for answering questions such as:\n",
    "- Which NBA statistics are actually useful for determining wins?\n",
    "- Can we predict whether a team will make the playoffs?\n",
    "- Can we predict whether a team will win a game?\n",
    "\n",
    "The answers to these questions will be the most useful to a team or a coach when trying to determine what aspects of gameplay to improve upon. If securing more offensive rebounds appears to be more important to winning a game than the percentage of successful free throws, then teams should be drilling rebounds instead of practicing free throws.\n",
    "\n",
    "\"**REWRITE** ...... In the sport of basketball, the box score is used to summarize/average the data of Games played (GP), Games started (GS), Minutes Played (MIN or MPG), Field-goals made (FGM), Field-goals attempted (FGA), Field-goal percentage (FG%), 3-pointers made (3PM), 3-pointers attempted (3PA), 3-point field goal (3P%), Free throws made (FTM), Free throws attempted (FTA), Free throw percentage (FT%), Offensive Rebounds (OREB), Defensive Rebounds (DREB), Total rebounds (REB), Assists (AST), Turnovers (TOV), Steals (STL), Blocked shots (BLK), Personal fouls (PF), Points scored (PTS), and Plus/Minus for Player efficiency (+/-).\""
   ]
  },
  {
   "cell_type": "markdown",
   "metadata": {
    "jupyter": {
     "source_hidden": true
    }
   },
   "source": [
    "## Scrape ESPN Team Page for Team Names\n",
    "\n",
    "First, we're going to need a list of the NBA teams, so let's look at the strucure of the ESPN website. The [teams page](https://www.espn.com/nba/teams) looks like the following:\n",
    "<img src=\"../images/espnTeamPage.png\"/>\n",
    "\n",
    "Inspection of the page shows that links for each team are in a section container with a 'pl3' class. \n",
    "<img src=\"../images/teamContainer.png\"/>\n",
    "So let's open the team page, parse it, and find all containers of that class."
   ]
  },
  {
   "cell_type": "code",
   "execution_count": 1,
   "metadata": {},
   "outputs": [],
   "source": [
    "import pandas as pd\n",
    "import numpy as np\n",
    "from bs4 import BeautifulSoup\n",
    "from urllib import request\n",
    "from urllib.error import HTTPError, URLError\n",
    "import time\n",
    "\n",
    "team_url = request.urlopen('http://www.espn.com/nba/teams').read()\n",
    "team_soup = BeautifulSoup(team_url,'lxml')\n",
    "team_containers = team_soup.find_all('div',{'class':'pl3'})"
   ]
  },
  {
   "cell_type": "markdown",
   "metadata": {},
   "source": [
    "To get the team name, we grab the text inside the \\<a\\> tag inside each team's section container. Then we'll get the abbreviation for each team by splitting on '/' in a team's URL and grabbing the 7th element. Next, we'll create a dictionary of the teams and their abbreviations. This will come in handy later."
   ]
  },
  {
   "cell_type": "code",
   "execution_count": 2,
   "metadata": {},
   "outputs": [],
   "source": [
    "team_names = [team.a.text for team in team_containers]\n",
    "team_abbrs = [team.find_all('a',href=True)[1]['href'].split('/')[6] for team in team_containers]\n",
    "teams = dict(zip(team_abbrs,team_names))"
   ]
  },
  {
   "cell_type": "markdown",
   "metadata": {},
   "source": [
    "Let's make sure we got all 30 teams."
   ]
  },
  {
   "cell_type": "code",
   "execution_count": 3,
   "metadata": {
    "collapsed": true,
    "jupyter": {
     "outputs_hidden": true
    }
   },
   "outputs": [
    {
     "name": "stdout",
     "output_type": "stream",
     "text": [
      "30\n"
     ]
    },
    {
     "data": {
      "text/plain": [
       "{'bos': 'Boston Celtics',\n",
       " 'bkn': 'Brooklyn Nets',\n",
       " 'ny': 'New York Knicks',\n",
       " 'phi': 'Philadelphia 76ers',\n",
       " 'tor': 'Toronto Raptors',\n",
       " 'chi': 'Chicago Bulls',\n",
       " 'cle': 'Cleveland Cavaliers',\n",
       " 'det': 'Detroit Pistons',\n",
       " 'ind': 'Indiana Pacers',\n",
       " 'mil': 'Milwaukee Bucks',\n",
       " 'den': 'Denver Nuggets',\n",
       " 'min': 'Minnesota Timberwolves',\n",
       " 'okc': 'Oklahoma City Thunder',\n",
       " 'por': 'Portland Trail Blazers',\n",
       " 'utah': 'Utah Jazz',\n",
       " 'gs': 'Golden State Warriors',\n",
       " 'lac': 'LA Clippers',\n",
       " 'lal': 'Los Angeles Lakers',\n",
       " 'phx': 'Phoenix Suns',\n",
       " 'sac': 'Sacramento Kings',\n",
       " 'atl': 'Atlanta Hawks',\n",
       " 'cha': 'Charlotte Hornets',\n",
       " 'mia': 'Miami Heat',\n",
       " 'orl': 'Orlando Magic',\n",
       " 'wsh': 'Washington Wizards',\n",
       " 'dal': 'Dallas Mavericks',\n",
       " 'hou': 'Houston Rockets',\n",
       " 'mem': 'Memphis Grizzlies',\n",
       " 'no': 'New Orleans Pelicans',\n",
       " 'sa': 'San Antonio Spurs'}"
      ]
     },
     "execution_count": 3,
     "metadata": {},
     "output_type": "execute_result"
    }
   ],
   "source": [
    "print(len(teams))\n",
    "teams"
   ]
  },
  {
   "cell_type": "markdown",
   "metadata": {},
   "source": [
    "## Scraping ESPN Team Schedule Page for Game IDs\n",
    "\n",
    "The page containing a game's box score is of the following format:<br>\n",
    "https://www.espn.com/nba/matchup?gameId=401070218.<br>\n",
    "So we need to get a list of all the game IDs. We do this by looking at the schedule page of each team.\n",
    "\n",
    "A team's regular season schedule is listed on a URL with the following format: https://www.espn.com/nba/team/schedule/_/name/ABBR/season/YEAR/seasontype/2, where ABBR (team abbreviation) and YEAR are our variables of interest."
   ]
  },
  {
   "cell_type": "markdown",
   "metadata": {},
   "source": [
    "The class for each table row of a team's schedule contains the string \"Table__TR\". So we'll search for that and exclude the first row which are just the table's column names.\n",
    "\n",
    "Then we'll grab the dates and IDs of each game."
   ]
  },
  {
   "cell_type": "markdown",
   "metadata": {},
   "source": [
    "The opponent names and the game locations are stored in a section element of class \"flex items-center opponent-logo\". Opponent names are just the title of the image. Game locations are indicated by \"@\" or \"vs\" for away and home, respectively."
   ]
  },
  {
   "cell_type": "code",
   "execution_count": 3,
   "metadata": {},
   "outputs": [],
   "source": [
    "# For the 2018-2019 regular season\n",
    "year = '2019'\n",
    "\n",
    "team_schedules = dict()\n",
    "for team_abbr in list(teams.keys()):\n",
    "    url = 'https://www.espn.com/nba/team/schedule/_/name/'+team_abbr+'/season/'+year+'/seasontype/2'\n",
    "    schedule_url = request.urlopen(url).read()\n",
    "    time.sleep(1)\n",
    "    schedule_soup = BeautifulSoup(schedule_url,'lxml')\n",
    "    \n",
    "    game_rows = schedule_soup.select('tr[class*=\"Table__TR\"]')[1:]\n",
    "    game_dates = [game.td.span.text for game in game_rows]\n",
    "    game_ids = [team_abbr+'_'+game.find_all('a',href=True)[2]['href'].split('=')[1] for game in game_rows]\n",
    "\n",
    "    game_logos = [game.find_all('div', attrs={'class':'flex items-center opponent-logo'}) for game in game_rows]\n",
    "    game_locs = [game[0].span.text for game in game_logos]\n",
    "    \n",
    "    game_results = [game.text for game in schedule_soup.select('span[class*=\"fw-bold clr-\"]')]\n",
    "    \n",
    "    team_rows = list(zip(game_dates, game_locs, game_results))\n",
    "    team_schedules.update(zip(game_ids,team_rows))"
   ]
  },
  {
   "cell_type": "markdown",
   "metadata": {},
   "source": [
    "# Scraping the Box Scores"
   ]
  },
  {
   "cell_type": "markdown",
   "metadata": {},
   "source": [
    "There are three tables of class \"mod-data\" on the Team Matchup page. We're interested in the first table which contains the team box scores for this particular game."
   ]
  },
  {
   "cell_type": "code",
   "execution_count": 4,
   "metadata": {},
   "outputs": [],
   "source": [
    "def get_box_score(table_data):\n",
    "    box_data = []\n",
    "    for tr in table_data:\n",
    "        td = tr.find_all('td')\n",
    "        row = [tr.text.strip('\\t\\n') for tr in td]\n",
    "        box_data.append(row) \n",
    "    return box_data"
   ]
  },
  {
   "cell_type": "code",
   "execution_count": 20,
   "metadata": {},
   "outputs": [
    {
     "name": "stdout",
     "output_type": "stream",
     "text": [
      "mil 401070856 list index out of range\n",
      "lac 401070856 list index out of range\n"
     ]
    }
   ],
   "source": [
    "final_data = []\n",
    "for key in list(team_schedules.keys()):\n",
    "    team_abbr = key.split('_')[0]\n",
    "    game_id = key.split('_')[1]\n",
    "\n",
    "    try:\n",
    "        box_url = request.urlopen('https://www.espn.com/nba/matchup?gameId='+game_id).read()\n",
    "        time.sleep(1)\n",
    "    except HTTPError as e:\n",
    "        print(team_abbr, game_id, e.reason)\n",
    "        time.sleep(120)\n",
    "        box_url = request.urlopen('https://www.espn.com/nba/matchup?gameId='+game_id).read()\n",
    "        pass\n",
    "\n",
    "        \n",
    "        \n",
    "    try:    \n",
    "        box_soup = BeautifulSoup(box_url,'lxml')\n",
    "\n",
    "        # Table containing the box score data\n",
    "        box_table = box_soup.find_all('table',attrs={'class':'mod-data'})[0]\n",
    "\n",
    "        home_team_container = box_soup.find_all('div', attrs={'class':'team home'})\n",
    "        home_team_abbr = home_team_container[0].find_all('span', attrs={'class':'abbrev'})[0].text.lower()\n",
    "        home_team_pts = box_soup.find_all('div', attrs={'class': 'score icon-font-before'})[0].text\n",
    "\n",
    "        away_team_container = box_soup.find_all('div', attrs={'class':'team away'})\n",
    "        away_team_abbr = away_team_container[0].find_all('span', attrs={'class':'abbrev'})[0].text.lower()\n",
    "        away_team_pts = box_soup.find_all('div', attrs={'class': 'score icon-font-after'})[0].text\n",
    "\n",
    "        points = ['PTS', away_team_pts, home_team_pts]\n",
    "\n",
    "        # Table rows with an indent class\n",
    "        indents = box_table.find_all('tr', attrs={'class':'indent'})\n",
    "        # Table rows with a highlight class\n",
    "        highlights = box_table.find_all('tr', attrs={'class':'highlight'})\n",
    "\n",
    "        highlights_data = get_box_score(highlights)\n",
    "        indents_data = get_box_score(indents)\n",
    "\n",
    "        box_data = np.concatenate(([points],highlights_data,indents_data)).T\n",
    "\n",
    "        if team_abbr == away_team_abbr:\n",
    "            row = np.concatenate(([team_abbr,teams[team_abbr],game_id],team_schedules[key],box_data[1],\n",
    "                                  [home_team_abbr,teams[home_team_abbr]],box_data[2]))\n",
    "        else:\n",
    "            row = np.concatenate(([team_abbr,teams[team_abbr],game_id],team_schedules[key],box_data[2],\n",
    "                                  [away_team_abbr,teams[away_team_abbr]],box_data[1]))\n",
    "        final_data.append(row)\n",
    "    except IndexError as e:\n",
    "        print(team_abbr, game_id, e)\n",
    "        continue"
   ]
  },
  {
   "cell_type": "code",
   "execution_count": 21,
   "metadata": {},
   "outputs": [
    {
     "data": {
      "text/plain": [
       "2458"
      ]
     },
     "execution_count": 21,
     "metadata": {},
     "output_type": "execute_result"
    }
   ],
   "source": [
    "len(final_data)"
   ]
  },
  {
   "cell_type": "code",
   "execution_count": 31,
   "metadata": {},
   "outputs": [
    {
     "data": {
      "text/plain": [
       "array(['wsh', 'Washington Wizards', '401071855', 'Fri, Apr 5', 'vs', 'L',\n",
       "       '112', '42-88', '47.7', '9-32', '28.1', '19-22', '86.4', '43',\n",
       "       '22', '2', '4', '10', '0', '54', '16', '4', '9', '25', '8', '0',\n",
       "       '0', 'sa', 'San Antonio Spurs', '129', '51-91', '56.0', '10-25',\n",
       "       '40.0', '17-20', '85.0', '49', '34', '3', '4', '9', '2', '56',\n",
       "       '18', '24', '12', '30', '9', '1', '0'], dtype='<U20')"
      ]
     },
     "execution_count": 31,
     "metadata": {},
     "output_type": "execute_result"
    }
   ],
   "source": [
    "final_data[2045]"
   ]
  },
  {
   "cell_type": "code",
   "execution_count": 26,
   "metadata": {},
   "outputs": [
    {
     "data": {
      "text/plain": [
       "array(['PTS', 'FG', 'Field Goal %', '3PT', 'Three Point %', 'FT',\n",
       "       'Free Throw %', 'Rebounds', 'Assists', 'Steals', 'Blocks',\n",
       "       'Total Turnovers', 'Fast Break Points', 'Points in Paint', 'Fouls',\n",
       "       'Largest Lead', 'Offensive Rebounds', 'Defensive Rebounds',\n",
       "       'Points Off Turnovers', 'Technical Fouls', 'Flagrant Fouls'],\n",
       "      dtype='<U20')"
      ]
     },
     "execution_count": 26,
     "metadata": {},
     "output_type": "execute_result"
    }
   ],
   "source": [
    "box_data[0]"
   ]
  },
  {
   "cell_type": "code",
   "execution_count": 28,
   "metadata": {},
   "outputs": [],
   "source": [
    "col_names = ['teamABBR', 'teamName','gameID', 'gameDate', 'gameLoc', 'teamResult', 'teamPTS', 'teamFG', 'teamFG%',\n",
    "             'team3PT', 'team3PT%', 'teamFT', 'teamFT%', 'teamTREB', 'teamASST', 'teamSTL', 'teamBLK',\n",
    "             'teamTO', 'teamFB_PTS', 'teamPNT_PTS', 'teamFOUL', 'teamLG_LEAD', 'teamOREB', 'teamDREB',\n",
    "             'teamTO_PTS', 'teamFOUL_T', 'teamFOUL_F',\n",
    "             'opptABBR', 'opptName', 'opptPTS', 'opptFG', 'opptFG%',\n",
    "             'oppt3PT', 'oppt3PT%', 'opptFT', 'opptFT%', 'opptTREB', 'opptASST', 'opptSTL', 'opptBLK',\n",
    "             'opptTO', 'opptFB_PTS', 'opptPNT_PTS', 'opptFOUL', 'opptLG_LEAD', 'opptOREB', 'opptDREB',\n",
    "             'opptTO_PTS', 'opptFOUL_T', 'opptFOUL_F']"
   ]
  },
  {
   "cell_type": "code",
   "execution_count": 29,
   "metadata": {},
   "outputs": [],
   "source": [
    "df = pd.DataFrame(final_data, columns=col_names)"
   ]
  },
  {
   "cell_type": "code",
   "execution_count": 37,
   "metadata": {},
   "outputs": [
    {
     "data": {
      "text/html": [
       "<div>\n",
       "<style scoped>\n",
       "    .dataframe tbody tr th:only-of-type {\n",
       "        vertical-align: middle;\n",
       "    }\n",
       "\n",
       "    .dataframe tbody tr th {\n",
       "        vertical-align: top;\n",
       "    }\n",
       "\n",
       "    .dataframe thead th {\n",
       "        text-align: right;\n",
       "    }\n",
       "</style>\n",
       "<table border=\"1\" class=\"dataframe\">\n",
       "  <thead>\n",
       "    <tr style=\"text-align: right;\">\n",
       "      <th></th>\n",
       "      <th>teamABBR</th>\n",
       "      <th>teamName</th>\n",
       "      <th>gameID</th>\n",
       "      <th>gameDate</th>\n",
       "      <th>gameLoc</th>\n",
       "      <th>teamResult</th>\n",
       "      <th>teamPTS</th>\n",
       "      <th>teamFG</th>\n",
       "      <th>teamFG%</th>\n",
       "      <th>team3PT</th>\n",
       "      <th>...</th>\n",
       "      <th>opptTO</th>\n",
       "      <th>opptFB_PTS</th>\n",
       "      <th>opptPNT_PTS</th>\n",
       "      <th>opptFOUL</th>\n",
       "      <th>opptLG_LEAD</th>\n",
       "      <th>opptOREB</th>\n",
       "      <th>opptDREB</th>\n",
       "      <th>opptTO_PTS</th>\n",
       "      <th>opptFOUL_T</th>\n",
       "      <th>opptFOUL_F</th>\n",
       "    </tr>\n",
       "  </thead>\n",
       "  <tbody>\n",
       "    <tr>\n",
       "      <th>2045</th>\n",
       "      <td>wsh</td>\n",
       "      <td>Washington Wizards</td>\n",
       "      <td>401071855</td>\n",
       "      <td>Fri, Apr 5</td>\n",
       "      <td>vs</td>\n",
       "      <td>L</td>\n",
       "      <td>112</td>\n",
       "      <td>42-88</td>\n",
       "      <td>47.7</td>\n",
       "      <td>9-32</td>\n",
       "      <td>...</td>\n",
       "      <td>9</td>\n",
       "      <td>2</td>\n",
       "      <td>56</td>\n",
       "      <td>18</td>\n",
       "      <td>24</td>\n",
       "      <td>12</td>\n",
       "      <td>30</td>\n",
       "      <td>9</td>\n",
       "      <td>1</td>\n",
       "      <td>0</td>\n",
       "    </tr>\n",
       "    <tr>\n",
       "      <th>2455</th>\n",
       "      <td>sa</td>\n",
       "      <td>San Antonio Spurs</td>\n",
       "      <td>401071855</td>\n",
       "      <td>Fri, Apr 5</td>\n",
       "      <td>@</td>\n",
       "      <td>W</td>\n",
       "      <td>129</td>\n",
       "      <td>51-91</td>\n",
       "      <td>56.0</td>\n",
       "      <td>10-25</td>\n",
       "      <td>...</td>\n",
       "      <td>10</td>\n",
       "      <td>0</td>\n",
       "      <td>54</td>\n",
       "      <td>16</td>\n",
       "      <td>4</td>\n",
       "      <td>9</td>\n",
       "      <td>25</td>\n",
       "      <td>8</td>\n",
       "      <td>0</td>\n",
       "      <td>0</td>\n",
       "    </tr>\n",
       "  </tbody>\n",
       "</table>\n",
       "<p>2 rows × 50 columns</p>\n",
       "</div>"
      ],
      "text/plain": [
       "     teamABBR            teamName     gameID    gameDate gameLoc teamResult  \\\n",
       "2045      wsh  Washington Wizards  401071855  Fri, Apr 5      vs          L   \n",
       "2455       sa   San Antonio Spurs  401071855  Fri, Apr 5       @          W   \n",
       "\n",
       "     teamPTS teamFG teamFG% team3PT  ... opptTO opptFB_PTS opptPNT_PTS  \\\n",
       "2045     112  42-88    47.7    9-32  ...      9          2          56   \n",
       "2455     129  51-91    56.0   10-25  ...     10          0          54   \n",
       "\n",
       "     opptFOUL opptLG_LEAD opptOREB opptDREB opptTO_PTS opptFOUL_T opptFOUL_F  \n",
       "2045       18          24       12       30          9          1          0  \n",
       "2455       16           4        9       25          8          0          0  \n",
       "\n",
       "[2 rows x 50 columns]"
      ]
     },
     "execution_count": 37,
     "metadata": {},
     "output_type": "execute_result"
    }
   ],
   "source": [
    "df[df.gameID.str.contains('401071855')]"
   ]
  },
  {
   "cell_type": "code",
   "execution_count": 38,
   "metadata": {},
   "outputs": [],
   "source": [
    "df.to_csv('../data/nba_team_box_scores_'+str(year)+'.csv')"
   ]
  },
  {
   "cell_type": "code",
   "execution_count": null,
   "metadata": {},
   "outputs": [],
   "source": []
  }
 ],
 "metadata": {
  "kernelspec": {
   "display_name": "Python 3",
   "language": "python",
   "name": "python3"
  },
  "language_info": {
   "codemirror_mode": {
    "name": "ipython",
    "version": 3
   },
   "file_extension": ".py",
   "mimetype": "text/x-python",
   "name": "python",
   "nbconvert_exporter": "python",
   "pygments_lexer": "ipython3",
   "version": "3.8.3"
  }
 },
 "nbformat": 4,
 "nbformat_minor": 4
}
