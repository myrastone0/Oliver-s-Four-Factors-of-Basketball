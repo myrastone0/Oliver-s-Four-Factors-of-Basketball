{
 "cells": [
  {
   "cell_type": "markdown",
   "metadata": {},
   "source": [
    "# Web Scraping in Python with BeautifulSoup: Collecting NBA Team Box Scores\n",
    "\n",
    "## Introduction\n",
    "\n",
    "This project uses Python and BeautifulSoup to scrape ESPN for the box scores of regular season games for NBA teams. The box score is a selected set of statistics which summarize the results of a game.\n",
    "\n",
    "This data will be useful for answering questions such as:\n",
    "- Which NBA statistics are actually useful for determining wins?\n",
    "- Can we predict whether a team will make the playoffs?\n",
    "- Can we predict whether a team will win a game?\n",
    "\n",
    "The answers to these questions will be the most useful to a team or a coach when trying to determine what aspects of gameplay to improve upon. If securing more offensive rebounds appears to be more important to winning a game than the percentage of successful free throws, then teams should be drilling rebounds instead of practicing free throws.\n",
    "\n",
    "\"**REWRITE** ...... In the sport of basketball, the box score is used to summarize/average the data of Games played (GP), Games started (GS), Minutes Played (MIN or MPG), Field-goals made (FGM), Field-goals attempted (FGA), Field-goal percentage (FG%), 3-pointers made (3PM), 3-pointers attempted (3PA), 3-point field goal (3P%), Free throws made (FTM), Free throws attempted (FTA), Free throw percentage (FT%), Offensive Rebounds (OREB), Defensive Rebounds (DREB), Total rebounds (REB), Assists (AST), Turnovers (TOV), Steals (STL), Blocked shots (BLK), Personal fouls (PF), Points scored (PTS), and Plus/Minus for Player efficiency (+/-).\""
   ]
  },
  {
   "cell_type": "markdown",
   "metadata": {},
   "source": [
    "## Scrape ESPN Team Page for Team Names\n",
    "\n",
    "First, we're going to need a list of the NBA teams, so let's look at the strucure of the ESPN website. The [teams page](https://www.espn.com/nba/teams) looks like the following:\n",
    "<img src=\"../images/espnTeamPage.png\"/>\n",
    "\n",
    "Inspection of the page shows that links for each team are in a section container with a 'pl3' class. \n",
    "<img src=\"../images/teamContainer.png\"/>\n",
    "So let's open the team page, parse it, and find all containers of that class."
   ]
  },
  {
   "cell_type": "code",
   "execution_count": 1,
   "metadata": {},
   "outputs": [],
   "source": [
    "import pandas as pd\n",
    "import numpy as np\n",
    "from bs4 import BeautifulSoup\n",
    "from urllib import request\n",
    "import time\n",
    "\n",
    "team_url = request.urlopen('http://www.espn.com/nba/teams').read()\n",
    "team_soup = BeautifulSoup(team_url,'lxml')\n",
    "team_containers = team_soup.find_all('div',{'class':'pl3'})"
   ]
  },
  {
   "cell_type": "markdown",
   "metadata": {},
   "source": [
    "To get the team name, we grab the text inside the \\<a\\> tag inside each team's section container. Then we'll get the abbreviation for each team by splitting on '/' in a team's URL and grabbing the 7th element. Next, we'll create a dictionary of the teams and their abbreviations. This will come in handy later."
   ]
  },
  {
   "cell_type": "code",
   "execution_count": 2,
   "metadata": {},
   "outputs": [],
   "source": [
    "team_names = [team.a.text for team in team_containers]\n",
    "team_abbrs = [team.find_all('a',href=True)[1]['href'].split('/')[6] for team in team_containers]\n",
    "teams = dict(zip(team_abbrs,team_names))"
   ]
  },
  {
   "cell_type": "markdown",
   "metadata": {},
   "source": [
    "Let's make sure we got all 30 teams."
   ]
  },
  {
   "cell_type": "code",
   "execution_count": 3,
   "metadata": {},
   "outputs": [
    {
     "name": "stdout",
     "output_type": "stream",
     "text": [
      "30\n"
     ]
    },
    {
     "data": {
      "text/plain": [
       "{'bos': 'Boston Celtics',\n",
       " 'bkn': 'Brooklyn Nets',\n",
       " 'ny': 'New York Knicks',\n",
       " 'phi': 'Philadelphia 76ers',\n",
       " 'tor': 'Toronto Raptors',\n",
       " 'chi': 'Chicago Bulls',\n",
       " 'cle': 'Cleveland Cavaliers',\n",
       " 'det': 'Detroit Pistons',\n",
       " 'ind': 'Indiana Pacers',\n",
       " 'mil': 'Milwaukee Bucks',\n",
       " 'den': 'Denver Nuggets',\n",
       " 'min': 'Minnesota Timberwolves',\n",
       " 'okc': 'Oklahoma City Thunder',\n",
       " 'por': 'Portland Trail Blazers',\n",
       " 'utah': 'Utah Jazz',\n",
       " 'gs': 'Golden State Warriors',\n",
       " 'lac': 'LA Clippers',\n",
       " 'lal': 'Los Angeles Lakers',\n",
       " 'phx': 'Phoenix Suns',\n",
       " 'sac': 'Sacramento Kings',\n",
       " 'atl': 'Atlanta Hawks',\n",
       " 'cha': 'Charlotte Hornets',\n",
       " 'mia': 'Miami Heat',\n",
       " 'orl': 'Orlando Magic',\n",
       " 'wsh': 'Washington Wizards',\n",
       " 'dal': 'Dallas Mavericks',\n",
       " 'hou': 'Houston Rockets',\n",
       " 'mem': 'Memphis Grizzlies',\n",
       " 'no': 'New Orleans Pelicans',\n",
       " 'sa': 'San Antonio Spurs'}"
      ]
     },
     "execution_count": 3,
     "metadata": {},
     "output_type": "execute_result"
    }
   ],
   "source": [
    "print(len(teams))\n",
    "teams"
   ]
  },
  {
   "cell_type": "markdown",
   "metadata": {},
   "source": [
    "## Scraping ESPN Team Schedule Page for Game IDs\n",
    "\n",
    "The page containing a game's box score is of the following format:<br>\n",
    "https://www.espn.com/nba/matchup?gameId=401070218.<br>\n",
    "So we need to get a list of all the game IDs. We do this by looking at the schedule page of each team.\n",
    "\n",
    "A team's regular season schedule is listed on a URL with the following format: https://www.espn.com/nba/team/schedule/_/name/ABBR/season/YEAR/seasontype/2, where ABBR (team abbreviation) and YEAR are our variables of interest."
   ]
  },
  {
   "cell_type": "code",
   "execution_count": 4,
   "metadata": {},
   "outputs": [],
   "source": [
    "year = '2019'\n",
    "team_abbr = 'gs'\n",
    "\n",
    "schedule_url = request.urlopen('https://www.espn.com/nba/team/schedule/_/name/'+team_abbr+'/season/'+year+'/seasontype/2').read()\n",
    "schedule_soup = BeautifulSoup(schedule_url,'lxml')"
   ]
  },
  {
   "cell_type": "markdown",
   "metadata": {},
   "source": [
    "The class for each table row of a team's schedule contains the string \"Table__TR\". So we'll search for that and exclude the first row which are just the table's column names.\n",
    "\n",
    "Then we'll grab the dates and IDs of each game."
   ]
  },
  {
   "cell_type": "code",
   "execution_count": 5,
   "metadata": {},
   "outputs": [],
   "source": [
    "game_rows = schedule_soup.select('tr[class*=\"Table__TR\"]')[1:]\n",
    "\n",
    "game_dates = [game.td.span.text for game in game_rows]\n",
    "game_ids = [game.find_all('a',href=True)[2]['href'].split('=')[1] for game in game_rows]"
   ]
  },
  {
   "cell_type": "markdown",
   "metadata": {},
   "source": [
    "The opponent names and the game locations are stored in a section element of class \"flex items-center opponent-logo\". Opponent names are just the title of the image. Game locations are indicated by \"@\" or \"vs\" for away and home, respectively."
   ]
  },
  {
   "cell_type": "code",
   "execution_count": 6,
   "metadata": {},
   "outputs": [],
   "source": [
    "game_logos = [game.find_all('div', attrs={'class':'flex items-center opponent-logo'}) for game in game_rows]\n",
    "\n",
    "game_oppts = [game[0].find('img').get('title') for game in game_logos]\n",
    "game_locs = [game[0].span.text for game in game_logos]"
   ]
  },
  {
   "cell_type": "markdown",
   "metadata": {},
   "source": [
    "# Scraping the Box Scores"
   ]
  },
  {
   "cell_type": "code",
   "execution_count": 7,
   "metadata": {},
   "outputs": [],
   "source": [
    "game_id = game_ids[0]\n",
    "box_url = request.urlopen('https://www.espn.com/nba/matchup?gameId='+game_id)\n",
    "box_soup = BeautifulSoup(box_url,'lxml')"
   ]
  },
  {
   "cell_type": "markdown",
   "metadata": {},
   "source": [
    "There are three tables of class \"mod-data\" on the Team Matchup page. We're interested in the first table which contains the team box scores for this particular game."
   ]
  },
  {
   "cell_type": "code",
   "execution_count": 8,
   "metadata": {},
   "outputs": [],
   "source": [
    "# Table containing the box score data\n",
    "box_table = box_soup.find_all('table',attrs={'class':'mod-data'})[0]"
   ]
  },
  {
   "cell_type": "markdown",
   "metadata": {},
   "source": [
    "The table headers will be \"MatchUp\", the away team's abbreviation, and the home team's abbreviation."
   ]
  },
  {
   "cell_type": "code",
   "execution_count": 9,
   "metadata": {},
   "outputs": [],
   "source": [
    "away_team = box_table.find_all('th')[1].find('img').get('src').split('/')[-1].split('.')[0]\n",
    "home_team = box_table.find_all('th')[2].find('img').get('src').split('/')[-1].split('.')[0]\n",
    "\n",
    "table_headers = [box_table.find_all('th')[0].text, away_team, home_team]"
   ]
  },
  {
   "cell_type": "code",
   "execution_count": 10,
   "metadata": {},
   "outputs": [],
   "source": [
    "# Table rows with an indent class\n",
    "indents = box_table.find_all('tr', attrs={'class':'indent'})\n",
    "# Table rows with a highlight class\n",
    "highlights = box_table.find_all('tr', attrs={'class':'highlight'})"
   ]
  },
  {
   "cell_type": "code",
   "execution_count": 11,
   "metadata": {},
   "outputs": [],
   "source": [
    "def get_box_data(table_data):\n",
    "    box_data = []\n",
    "    for tr in table_data:\n",
    "        td = tr.find_all('td')\n",
    "        row = [tr.text.strip('\\t\\n') for tr in td]\n",
    "        box_data.append(row) \n",
    "    return box_data"
   ]
  },
  {
   "cell_type": "code",
   "execution_count": 12,
   "metadata": {},
   "outputs": [],
   "source": [
    "highlights_data = get_box_data(highlights)\n",
    "indents_data = get_box_data(indents)\n",
    "\n",
    "box_data = np.concatenate((highlights_data,indents_data))"
   ]
  },
  {
   "cell_type": "code",
   "execution_count": 13,
   "metadata": {},
   "outputs": [],
   "source": [
    "df = pd.DataFrame(box_data, columns=table_headers)"
   ]
  },
  {
   "cell_type": "code",
   "execution_count": 14,
   "metadata": {},
   "outputs": [
    {
     "data": {
      "text/html": [
       "<div>\n",
       "<style scoped>\n",
       "    .dataframe tbody tr th:only-of-type {\n",
       "        vertical-align: middle;\n",
       "    }\n",
       "\n",
       "    .dataframe tbody tr th {\n",
       "        vertical-align: top;\n",
       "    }\n",
       "\n",
       "    .dataframe thead th {\n",
       "        text-align: right;\n",
       "    }\n",
       "</style>\n",
       "<table border=\"1\" class=\"dataframe\">\n",
       "  <thead>\n",
       "    <tr style=\"text-align: right;\">\n",
       "      <th></th>\n",
       "      <th>Matchup</th>\n",
       "      <th>okc</th>\n",
       "      <th>gs</th>\n",
       "    </tr>\n",
       "  </thead>\n",
       "  <tbody>\n",
       "    <tr>\n",
       "      <th>0</th>\n",
       "      <td>FG</td>\n",
       "      <td>33-91</td>\n",
       "      <td>42-95</td>\n",
       "    </tr>\n",
       "    <tr>\n",
       "      <th>1</th>\n",
       "      <td>Field Goal %</td>\n",
       "      <td>36.3</td>\n",
       "      <td>44.2</td>\n",
       "    </tr>\n",
       "    <tr>\n",
       "      <th>2</th>\n",
       "      <td>3PT</td>\n",
       "      <td>10-37</td>\n",
       "      <td>7-26</td>\n",
       "    </tr>\n",
       "    <tr>\n",
       "      <th>3</th>\n",
       "      <td>Three Point %</td>\n",
       "      <td>27.0</td>\n",
       "      <td>26.9</td>\n",
       "    </tr>\n",
       "    <tr>\n",
       "      <th>4</th>\n",
       "      <td>FT</td>\n",
       "      <td>24-37</td>\n",
       "      <td>17-18</td>\n",
       "    </tr>\n",
       "    <tr>\n",
       "      <th>5</th>\n",
       "      <td>Free Throw %</td>\n",
       "      <td>64.9</td>\n",
       "      <td>94.4</td>\n",
       "    </tr>\n",
       "    <tr>\n",
       "      <th>6</th>\n",
       "      <td>Rebounds</td>\n",
       "      <td>59</td>\n",
       "      <td>66</td>\n",
       "    </tr>\n",
       "    <tr>\n",
       "      <th>7</th>\n",
       "      <td>Assists</td>\n",
       "      <td>21</td>\n",
       "      <td>28</td>\n",
       "    </tr>\n",
       "    <tr>\n",
       "      <th>8</th>\n",
       "      <td>Steals</td>\n",
       "      <td>12</td>\n",
       "      <td>7</td>\n",
       "    </tr>\n",
       "    <tr>\n",
       "      <th>9</th>\n",
       "      <td>Blocks</td>\n",
       "      <td>6</td>\n",
       "      <td>7</td>\n",
       "    </tr>\n",
       "    <tr>\n",
       "      <th>10</th>\n",
       "      <td>Total Turnovers</td>\n",
       "      <td>15</td>\n",
       "      <td>21</td>\n",
       "    </tr>\n",
       "    <tr>\n",
       "      <th>11</th>\n",
       "      <td>Fast Break Points</td>\n",
       "      <td>10</td>\n",
       "      <td>13</td>\n",
       "    </tr>\n",
       "    <tr>\n",
       "      <th>12</th>\n",
       "      <td>Points in Paint</td>\n",
       "      <td>34</td>\n",
       "      <td>58</td>\n",
       "    </tr>\n",
       "    <tr>\n",
       "      <th>13</th>\n",
       "      <td>Fouls</td>\n",
       "      <td>21</td>\n",
       "      <td>29</td>\n",
       "    </tr>\n",
       "    <tr>\n",
       "      <th>14</th>\n",
       "      <td>Largest Lead</td>\n",
       "      <td>3</td>\n",
       "      <td>14</td>\n",
       "    </tr>\n",
       "    <tr>\n",
       "      <th>15</th>\n",
       "      <td>Offensive Rebounds</td>\n",
       "      <td>16</td>\n",
       "      <td>17</td>\n",
       "    </tr>\n",
       "    <tr>\n",
       "      <th>16</th>\n",
       "      <td>Defensive Rebounds</td>\n",
       "      <td>29</td>\n",
       "      <td>41</td>\n",
       "    </tr>\n",
       "    <tr>\n",
       "      <th>17</th>\n",
       "      <td>Points Off Turnovers</td>\n",
       "      <td>16</td>\n",
       "      <td>19</td>\n",
       "    </tr>\n",
       "    <tr>\n",
       "      <th>18</th>\n",
       "      <td>Technical Fouls</td>\n",
       "      <td>0</td>\n",
       "      <td>0</td>\n",
       "    </tr>\n",
       "    <tr>\n",
       "      <th>19</th>\n",
       "      <td>Flagrant Fouls</td>\n",
       "      <td>0</td>\n",
       "      <td>0</td>\n",
       "    </tr>\n",
       "  </tbody>\n",
       "</table>\n",
       "</div>"
      ],
      "text/plain": [
       "                 Matchup    okc     gs\n",
       "0                     FG  33-91  42-95\n",
       "1           Field Goal %   36.3   44.2\n",
       "2                    3PT  10-37   7-26\n",
       "3          Three Point %   27.0   26.9\n",
       "4                     FT  24-37  17-18\n",
       "5           Free Throw %   64.9   94.4\n",
       "6               Rebounds     59     66\n",
       "7                Assists     21     28\n",
       "8                 Steals     12      7\n",
       "9                 Blocks      6      7\n",
       "10       Total Turnovers     15     21\n",
       "11     Fast Break Points     10     13\n",
       "12       Points in Paint     34     58\n",
       "13                 Fouls     21     29\n",
       "14          Largest Lead      3     14\n",
       "15    Offensive Rebounds     16     17\n",
       "16    Defensive Rebounds     29     41\n",
       "17  Points Off Turnovers     16     19\n",
       "18       Technical Fouls      0      0\n",
       "19        Flagrant Fouls      0      0"
      ]
     },
     "execution_count": 14,
     "metadata": {},
     "output_type": "execute_result"
    }
   ],
   "source": [
    "df"
   ]
  },
  {
   "cell_type": "code",
   "execution_count": null,
   "metadata": {},
   "outputs": [],
   "source": []
  }
 ],
 "metadata": {
  "kernelspec": {
   "display_name": "Python 3",
   "language": "python",
   "name": "python3"
  },
  "language_info": {
   "codemirror_mode": {
    "name": "ipython",
    "version": 3
   },
   "file_extension": ".py",
   "mimetype": "text/x-python",
   "name": "python",
   "nbconvert_exporter": "python",
   "pygments_lexer": "ipython3",
   "version": "3.8.3"
  }
 },
 "nbformat": 4,
 "nbformat_minor": 4
}
