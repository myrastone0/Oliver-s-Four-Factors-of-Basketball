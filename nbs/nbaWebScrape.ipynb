{
 "cells": [
  {
   "cell_type": "code",
   "execution_count": 2,
   "metadata": {},
   "outputs": [],
   "source": [
    "import pandas as pd\n",
    "import numpy as np\n",
    "from bs4 import BeautifulSoup\n",
    "from urllib import request\n",
    "import time"
   ]
  },
  {
   "cell_type": "code",
   "execution_count": 3,
   "metadata": {},
   "outputs": [],
   "source": [
    "years = np.arange(2000,2020,1).tolist()\n",
    "\n",
    "for year in years:\n",
    "    web_name = 'https://www.basketball-reference.com/leagues/NBA_'+str(year)+'_per_game.html'\n",
    "    website = request.urlopen(web_name).read()\n",
    "    soup = BeautifulSoup(website,'lxml')\n",
    "\n",
    "    table = soup.find('table', attrs={'class': 'sortable', 'id': 'per_game_stats'})\n",
    "    table_headers = [header.text for header in table.find('thead').find_all('th')]\n",
    "    table_rows = table.find_all('tr')\n",
    "\n",
    "    final_data = []\n",
    "    # For each table row,\n",
    "    for tr in table_rows:\n",
    "        # Make a list of the table data tags for this row\n",
    "        td = tr.find_all('td')\n",
    "        # Extract just the cell data and make a list\n",
    "        row = [tr.text for tr in td]\n",
    "        # Append the extracted data\n",
    "        final_data.append(row)\n",
    "\n",
    "\n",
    "    df = pd.DataFrame(final_data[1:], columns=table_headers[1:])\n",
    "    df.to_csv('../data/nba_stats_'+str(year)+'.csv')\n",
    "    \n",
    "    time.sleep(1)"
   ]
  },
  {
   "cell_type": "code",
   "execution_count": null,
   "metadata": {},
   "outputs": [],
   "source": []
  }
 ],
 "metadata": {
  "kernelspec": {
   "display_name": "Python 3",
   "language": "python",
   "name": "python3"
  },
  "language_info": {
   "codemirror_mode": {
    "name": "ipython",
    "version": 3
   },
   "file_extension": ".py",
   "mimetype": "text/x-python",
   "name": "python",
   "nbconvert_exporter": "python",
   "pygments_lexer": "ipython3",
   "version": "3.8.3"
  }
 },
 "nbformat": 4,
 "nbformat_minor": 4
}
