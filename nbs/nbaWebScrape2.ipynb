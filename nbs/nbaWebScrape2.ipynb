{
 "cells": [
  {
   "cell_type": "code",
   "execution_count": null,
   "metadata": {},
   "outputs": [],
   "source": [
    "years = np.arange(2000,2020,1).tolist()\n",
    "\n",
    "for year in years:\n",
    "    web_name = 'https://www.basketball-reference.com/leagues/NBA_'+str(year)+'_per_game.html'\n",
    "    website = request.urlopen(web_name).read()\n",
    "    soup = BeautifulSoup(website,'lxml')\n",
    "\n",
    "    table = soup.find('table', attrs={'class': 'sortable', 'id': 'per_game_stats'})\n",
    "    table_headers = [header.text for header in table.find('thead').find_all('th')]\n",
    "    table_rows = table.find_all('tr')\n",
    "\n",
    "    final_data = []\n",
    "    # For each table row,\n",
    "    for tr in table_rows:\n",
    "        # Make a list of the table data tags for this row\n",
    "        td = tr.find_all('td')\n",
    "        # Extract just the cell data and make a list\n",
    "        row = [tr.text for tr in td]\n",
    "        # Append the extracted data\n",
    "        final_data.append(row)\n",
    "\n",
    "\n",
    "    df = pd.DataFrame(final_data[1:], columns=table_headers[1:])\n",
    "    df.to_csv('../data/nba_stats_'+str(year)+'.csv')\n",
    "    \n",
    "    time.sleep(1)"
   ]
  },
  {
   "cell_type": "code",
   "execution_count": 1,
   "metadata": {},
   "outputs": [],
   "source": [
    "import pandas as pd\n",
    "import numpy as np\n",
    "from bs4 import BeautifulSoup\n",
    "from urllib import request\n",
    "import time"
   ]
  },
  {
   "cell_type": "code",
   "execution_count": 2,
   "metadata": {},
   "outputs": [],
   "source": [
    "url = request.urlopen('http://www.espn.com/nba/teams').read()\n",
    "soup = BeautifulSoup(url,'lxml')"
   ]
  },
  {
   "cell_type": "code",
   "execution_count": 8,
   "metadata": {},
   "outputs": [],
   "source": [
    "container = soup.find_all('div',{'class':'pl3'})"
   ]
  },
  {
   "cell_type": "code",
   "execution_count": 4,
   "metadata": {},
   "outputs": [],
   "source": [
    "teamNames = [teamName.a.text for teamName in container]"
   ]
  },
  {
   "cell_type": "code",
   "execution_count": 5,
   "metadata": {},
   "outputs": [],
   "source": [
    "teamUrls = [teamUrl.find_all('a',href=True)[1]['href'] for teamUrl in container]"
   ]
  },
  {
   "cell_type": "code",
   "execution_count": 6,
   "metadata": {},
   "outputs": [],
   "source": [
    "teams = dict(zip(teamNames,teamUrls))"
   ]
  },
  {
   "cell_type": "code",
   "execution_count": 7,
   "metadata": {},
   "outputs": [
    {
     "data": {
      "text/plain": [
       "{'Boston Celtics': '/nba/team/stats/_/name/bos/boston-celtics',\n",
       " 'Brooklyn Nets': '/nba/team/stats/_/name/bkn/brooklyn-nets',\n",
       " 'New York Knicks': '/nba/team/stats/_/name/ny/new-york-knicks',\n",
       " 'Philadelphia 76ers': '/nba/team/stats/_/name/phi/philadelphia-76ers',\n",
       " 'Toronto Raptors': '/nba/team/stats/_/name/tor/toronto-raptors',\n",
       " 'Chicago Bulls': '/nba/team/stats/_/name/chi/chicago-bulls',\n",
       " 'Cleveland Cavaliers': '/nba/team/stats/_/name/cle/cleveland-cavaliers',\n",
       " 'Detroit Pistons': '/nba/team/stats/_/name/det/detroit-pistons',\n",
       " 'Indiana Pacers': '/nba/team/stats/_/name/ind/indiana-pacers',\n",
       " 'Milwaukee Bucks': '/nba/team/stats/_/name/mil/milwaukee-bucks',\n",
       " 'Denver Nuggets': '/nba/team/stats/_/name/den/denver-nuggets',\n",
       " 'Minnesota Timberwolves': '/nba/team/stats/_/name/min/minnesota-timberwolves',\n",
       " 'Oklahoma City Thunder': '/nba/team/stats/_/name/okc/oklahoma-city-thunder',\n",
       " 'Portland Trail Blazers': '/nba/team/stats/_/name/por/portland-trail-blazers',\n",
       " 'Utah Jazz': '/nba/team/stats/_/name/utah/utah-jazz',\n",
       " 'Golden State Warriors': '/nba/team/stats/_/name/gs/golden-state-warriors',\n",
       " 'LA Clippers': '/nba/team/stats/_/name/lac/la-clippers',\n",
       " 'Los Angeles Lakers': '/nba/team/stats/_/name/lal/los-angeles-lakers',\n",
       " 'Phoenix Suns': '/nba/team/stats/_/name/phx/phoenix-suns',\n",
       " 'Sacramento Kings': '/nba/team/stats/_/name/sac/sacramento-kings',\n",
       " 'Atlanta Hawks': '/nba/team/stats/_/name/atl/atlanta-hawks',\n",
       " 'Charlotte Hornets': '/nba/team/stats/_/name/cha/charlotte-hornets',\n",
       " 'Miami Heat': '/nba/team/stats/_/name/mia/miami-heat',\n",
       " 'Orlando Magic': '/nba/team/stats/_/name/orl/orlando-magic',\n",
       " 'Washington Wizards': '/nba/team/stats/_/name/wsh/washington-wizards',\n",
       " 'Dallas Mavericks': '/nba/team/stats/_/name/dal/dallas-mavericks',\n",
       " 'Houston Rockets': '/nba/team/stats/_/name/hou/houston-rockets',\n",
       " 'Memphis Grizzlies': '/nba/team/stats/_/name/mem/memphis-grizzlies',\n",
       " 'New Orleans Pelicans': '/nba/team/stats/_/name/no/new-orleans-pelicans',\n",
       " 'San Antonio Spurs': '/nba/team/stats/_/name/sa/san-antonio-spurs'}"
      ]
     },
     "execution_count": 7,
     "metadata": {},
     "output_type": "execute_result"
    }
   ],
   "source": [
    "teams"
   ]
  },
  {
   "cell_type": "code",
   "execution_count": null,
   "metadata": {},
   "outputs": [],
   "source": []
  }
 ],
 "metadata": {
  "kernelspec": {
   "display_name": "Python 3",
   "language": "python",
   "name": "python3"
  },
  "language_info": {
   "codemirror_mode": {
    "name": "ipython",
    "version": 3
   },
   "file_extension": ".py",
   "mimetype": "text/x-python",
   "name": "python",
   "nbconvert_exporter": "python",
   "pygments_lexer": "ipython3",
   "version": "3.8.3"
  }
 },
 "nbformat": 4,
 "nbformat_minor": 4
}
