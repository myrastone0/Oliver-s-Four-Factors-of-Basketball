{
 "cells": [
  {
   "cell_type": "markdown",
   "metadata": {
    "jupyter": {
     "source_hidden": true
    }
   },
   "source": [
    "# Web Scraping in Python with BeautifulSoup: Collecting NBA Team Box Scores\n",
    "\n",
    "## Introduction\n",
    "\n",
    "This project uses Python and BeautifulSoup to scrape ESPN for the box scores of regular season games for NBA teams. The box score is a selected set of statistics which summarize the results of a game.\n",
    "\n",
    "This data will be useful for answering questions such as:\n",
    "- Which NBA statistics are actually useful for determining wins?\n",
    "- Can we predict whether a team will make the playoffs?\n",
    "- Can we predict whether a team will win a game?\n",
    "\n",
    "The answers to these questions will be the most useful to a team or a coach when trying to determine what aspects of gameplay to improve upon. If securing more offensive rebounds appears to be more important to winning a game than the percentage of successful free throws, then teams should be drilling rebounds instead of practicing free throws.\n",
    "\n",
    "\"**REWRITE** ...... In the sport of basketball, the box score is used to summarize/average the data of Games played (GP), Games started (GS), Minutes Played (MIN or MPG), Field-goals made (FGM), Field-goals attempted (FGA), Field-goal percentage (FG%), 3-pointers made (3PM), 3-pointers attempted (3PA), 3-point field goal (3P%), Free throws made (FTM), Free throws attempted (FTA), Free throw percentage (FT%), Offensive Rebounds (OREB), Defensive Rebounds (DREB), Total rebounds (REB), Assists (AST), Turnovers (TOV), Steals (STL), Blocked shots (BLK), Personal fouls (PF), Points scored (PTS), and Plus/Minus for Player efficiency (+/-).\""
   ]
  },
  {
   "cell_type": "markdown",
   "metadata": {
    "jupyter": {
     "source_hidden": true
    }
   },
   "source": [
    "## Scrape ESPN Team Page for Team Names\n",
    "\n",
    "First, we're going to need a list of the NBA teams, so let's look at the strucure of the ESPN website. The [teams page](https://www.espn.com/nba/teams) looks like the following:\n",
    "<img src=\"../images/espnTeamPage.png\"/>\n",
    "\n",
    "Inspection of the page shows that links for each team are in a section container with a 'pl3' class. \n",
    "<img src=\"../images/teamContainer.png\"/>\n",
    "So let's open the team page, parse it, and find all containers of that class."
   ]
  },
  {
   "cell_type": "code",
   "execution_count": 1,
   "metadata": {},
   "outputs": [],
   "source": [
    "import pandas as pd\n",
    "import numpy as np\n",
    "from bs4 import BeautifulSoup\n",
    "from urllib import request\n",
    "import time\n",
    "\n",
    "team_url = request.urlopen('http://www.espn.com/nba/teams').read()\n",
    "team_soup = BeautifulSoup(team_url,'lxml')\n",
    "team_containers = team_soup.find_all('div',{'class':'pl3'})"
   ]
  },
  {
   "cell_type": "markdown",
   "metadata": {},
   "source": [
    "To get the team name, we grab the text inside the \\<a\\> tag inside each team's section container. Then we'll get the abbreviation for each team by splitting on '/' in a team's URL and grabbing the 7th element. Next, we'll create a dictionary of the teams and their abbreviations. This will come in handy later."
   ]
  },
  {
   "cell_type": "code",
   "execution_count": 2,
   "metadata": {},
   "outputs": [],
   "source": [
    "team_names = [team.a.text for team in team_containers]\n",
    "team_abbrs = [team.find_all('a',href=True)[1]['href'].split('/')[6] for team in team_containers]\n",
    "teams = dict(zip(team_abbrs,team_names))"
   ]
  },
  {
   "cell_type": "markdown",
   "metadata": {},
   "source": [
    "Let's make sure we got all 30 teams."
   ]
  },
  {
   "cell_type": "code",
   "execution_count": 3,
   "metadata": {},
   "outputs": [
    {
     "name": "stdout",
     "output_type": "stream",
     "text": [
      "30\n"
     ]
    },
    {
     "data": {
      "text/plain": [
       "{'bos': 'Boston Celtics',\n",
       " 'bkn': 'Brooklyn Nets',\n",
       " 'ny': 'New York Knicks',\n",
       " 'phi': 'Philadelphia 76ers',\n",
       " 'tor': 'Toronto Raptors',\n",
       " 'chi': 'Chicago Bulls',\n",
       " 'cle': 'Cleveland Cavaliers',\n",
       " 'det': 'Detroit Pistons',\n",
       " 'ind': 'Indiana Pacers',\n",
       " 'mil': 'Milwaukee Bucks',\n",
       " 'den': 'Denver Nuggets',\n",
       " 'min': 'Minnesota Timberwolves',\n",
       " 'okc': 'Oklahoma City Thunder',\n",
       " 'por': 'Portland Trail Blazers',\n",
       " 'utah': 'Utah Jazz',\n",
       " 'gs': 'Golden State Warriors',\n",
       " 'lac': 'LA Clippers',\n",
       " 'lal': 'Los Angeles Lakers',\n",
       " 'phx': 'Phoenix Suns',\n",
       " 'sac': 'Sacramento Kings',\n",
       " 'atl': 'Atlanta Hawks',\n",
       " 'cha': 'Charlotte Hornets',\n",
       " 'mia': 'Miami Heat',\n",
       " 'orl': 'Orlando Magic',\n",
       " 'wsh': 'Washington Wizards',\n",
       " 'dal': 'Dallas Mavericks',\n",
       " 'hou': 'Houston Rockets',\n",
       " 'mem': 'Memphis Grizzlies',\n",
       " 'no': 'New Orleans Pelicans',\n",
       " 'sa': 'San Antonio Spurs'}"
      ]
     },
     "execution_count": 3,
     "metadata": {},
     "output_type": "execute_result"
    }
   ],
   "source": [
    "print(len(teams))\n",
    "teams"
   ]
  },
  {
   "cell_type": "markdown",
   "metadata": {},
   "source": [
    "## Scraping ESPN Team Schedule Page for Game IDs\n",
    "\n",
    "The page containing a game's box score is of the following format:<br>\n",
    "https://www.espn.com/nba/matchup?gameId=401070218.<br>\n",
    "So we need to get a list of all the game IDs. We do this by looking at the schedule page of each team.\n",
    "\n",
    "A team's regular season schedule is listed on a URL with the following format: https://www.espn.com/nba/team/schedule/_/name/ABBR/season/YEAR/seasontype/2, where ABBR (team abbreviation) and YEAR are our variables of interest."
   ]
  },
  {
   "cell_type": "markdown",
   "metadata": {},
   "source": [
    "The class for each table row of a team's schedule contains the string \"Table__TR\". So we'll search for that and exclude the first row which are just the table's column names.\n",
    "\n",
    "Then we'll grab the dates and IDs of each game."
   ]
  },
  {
   "cell_type": "markdown",
   "metadata": {},
   "source": [
    "The opponent names and the game locations are stored in a section element of class \"flex items-center opponent-logo\". Opponent names are just the title of the image. Game locations are indicated by \"@\" or \"vs\" for away and home, respectively."
   ]
  },
  {
   "cell_type": "code",
   "execution_count": 4,
   "metadata": {},
   "outputs": [],
   "source": [
    "# For the 2018-2019 regular season\n",
    "year = '2019'\n",
    "\n",
    "team_schedules = dict()\n",
    "for team_abbr in list(teams.keys()):\n",
    "    url = 'https://www.espn.com/nba/team/schedule/_/name/'+team_abbr+'/season/'+year+'/seasontype/2'\n",
    "    schedule_url = request.urlopen(url).read()\n",
    "    time.sleep(1)\n",
    "    schedule_soup = BeautifulSoup(schedule_url,'lxml')\n",
    "    \n",
    "    game_rows = schedule_soup.select('tr[class*=\"Table__TR\"]')[1:]\n",
    "    game_dates = [game.td.span.text for game in game_rows]\n",
    "    game_ids = [game.find_all('a',href=True)[2]['href'].split('=')[1] for game in game_rows]\n",
    "\n",
    "    game_logos = [game.find_all('div', attrs={'class':'flex items-center opponent-logo'}) for game in game_rows]\n",
    "    game_locs = [game[0].span.text for game in game_logos]\n",
    "    \n",
    "    game_results = [game.text for game in schedule_soup.select('span[class*=\"fw-bold clr-\"]')]\n",
    "    \n",
    "    schedule = dict(zip(game_ids, list(zip(game_dates, game_locs, game_results))))\n",
    "    team_schedules.setdefault(team_abbr, schedule)"
   ]
  },
  {
   "cell_type": "markdown",
   "metadata": {},
   "source": [
    "# Scraping the Box Scores"
   ]
  },
  {
   "cell_type": "markdown",
   "metadata": {},
   "source": [
    "There are three tables of class \"mod-data\" on the Team Matchup page. We're interested in the first table which contains the team box scores for this particular game."
   ]
  },
  {
   "cell_type": "code",
   "execution_count": 5,
   "metadata": {},
   "outputs": [],
   "source": [
    "def get_box_score(table_data):\n",
    "    box_data = []\n",
    "    for tr in table_data:\n",
    "        td = tr.find_all('td')\n",
    "        row = [tr.text.strip('\\t\\n') for tr in td]\n",
    "        box_data.append(row) \n",
    "    return box_data"
   ]
  },
  {
   "cell_type": "code",
   "execution_count": 43,
   "metadata": {},
   "outputs": [
    {
     "ename": "IndexError",
     "evalue": "list index out of range",
     "output_type": "error",
     "traceback": [
      "\u001b[0;31m---------------------------------------------------------------------------\u001b[0m",
      "\u001b[0;31mIndexError\u001b[0m                                Traceback (most recent call last)",
      "\u001b[0;32m<ipython-input-43-e1e05c4f77d7>\u001b[0m in \u001b[0;36m<module>\u001b[0;34m\u001b[0m\n\u001b[1;32m      8\u001b[0m \u001b[0;34m\u001b[0m\u001b[0m\n\u001b[1;32m      9\u001b[0m             \u001b[0;31m# Table containing the box score data\u001b[0m\u001b[0;34m\u001b[0m\u001b[0;34m\u001b[0m\u001b[0;34m\u001b[0m\u001b[0m\n\u001b[0;32m---> 10\u001b[0;31m             \u001b[0mbox_table\u001b[0m \u001b[0;34m=\u001b[0m \u001b[0mbox_soup\u001b[0m\u001b[0;34m.\u001b[0m\u001b[0mfind_all\u001b[0m\u001b[0;34m(\u001b[0m\u001b[0;34m'table'\u001b[0m\u001b[0;34m,\u001b[0m\u001b[0mattrs\u001b[0m\u001b[0;34m=\u001b[0m\u001b[0;34m{\u001b[0m\u001b[0;34m'class'\u001b[0m\u001b[0;34m:\u001b[0m\u001b[0;34m'mod-data'\u001b[0m\u001b[0;34m}\u001b[0m\u001b[0;34m)\u001b[0m\u001b[0;34m[\u001b[0m\u001b[0;36m0\u001b[0m\u001b[0;34m]\u001b[0m\u001b[0;34m\u001b[0m\u001b[0;34m\u001b[0m\u001b[0m\n\u001b[0m\u001b[1;32m     11\u001b[0m \u001b[0;34m\u001b[0m\u001b[0m\n\u001b[1;32m     12\u001b[0m             \u001b[0mhome_team_container\u001b[0m \u001b[0;34m=\u001b[0m \u001b[0mbox_soup\u001b[0m\u001b[0;34m.\u001b[0m\u001b[0mfind_all\u001b[0m\u001b[0;34m(\u001b[0m\u001b[0;34m'div'\u001b[0m\u001b[0;34m,\u001b[0m \u001b[0mattrs\u001b[0m\u001b[0;34m=\u001b[0m\u001b[0;34m{\u001b[0m\u001b[0;34m'class'\u001b[0m\u001b[0;34m:\u001b[0m\u001b[0;34m'team home'\u001b[0m\u001b[0;34m}\u001b[0m\u001b[0;34m)\u001b[0m\u001b[0;34m\u001b[0m\u001b[0;34m\u001b[0m\u001b[0m\n",
      "\u001b[0;31mIndexError\u001b[0m: list index out of range"
     ]
    }
   ],
   "source": [
    "for team_abbr in list(teams.keys())[9:10]:\n",
    "#     for game_id in list(team_schedules[team_abbr].keys()):\n",
    "    for game_id in ['401070856','401070693']:\n",
    "        retries = 3\n",
    "        try:\n",
    "            box_url = request.urlopen('https://www.espn.com/nba/matchup?gameId='+game_id).read()\n",
    "            time.sleep(1)\n",
    "            box_soup = BeautifulSoup(box_url,'lxml')\n",
    "\n",
    "            # Table containing the box score data\n",
    "            box_table = box_soup.find_all('table',attrs={'class':'mod-data'})[0]\n",
    "\n",
    "            home_team_container = box_soup.find_all('div', attrs={'class':'team home'})\n",
    "            home_team_abbr = home_team_container[0].find_all('span', attrs={'class':'abbrev'})[0].text.lower()\n",
    "            home_team_pts = box_soup.find_all('div', attrs={'class': 'score icon-font-before'})[0].text\n",
    "\n",
    "            away_team_container = box_soup.find_all('div', attrs={'class':'team away'})\n",
    "            away_team_abbr = away_team_container[0].find_all('span', attrs={'class':'abbrev'})[0].text.lower()\n",
    "            away_team_pts = box_soup.find_all('div', attrs={'class': 'score icon-font-after'})[0].text\n",
    "\n",
    "            points = ['PTS', away_team_pts, home_team_pts]\n",
    "\n",
    "            # Table rows with an indent class\n",
    "            indents = box_table.find_all('tr', attrs={'class':'indent'})\n",
    "            # Table rows with a highlight class\n",
    "            highlights = box_table.find_all('tr', attrs={'class':'highlight'})\n",
    "\n",
    "            highlights_data = get_box_score(highlights)\n",
    "            indents_data = get_box_score(indents)\n",
    "\n",
    "            box_data = np.concatenate(([points],highlights_data,indents_data)).T\n",
    "\n",
    "            if team_abbr == away_team_abbr:\n",
    "                row = np.concatenate(([team_abbr,teams[team_abbr],game_id],team_schedules[team_abbr][game_id],box_data[1],\n",
    "                                      [home_team_abbr,teams[home_team_abbr]],box_data[2]))\n",
    "            else:\n",
    "                row = np.concatenate(([team_abbr,teams[team_abbr],game_id],team_schedules[team_abbr][game_id],box_data[2],\n",
    "                                      [away_team_abbr,teams[away_team_abbr]],box_data[1]))\n",
    "\n",
    "            final_data1.append(row)\n",
    "#         except:\n",
    "#             continue"
   ]
  },
  {
   "cell_type": "code",
   "execution_count": 6,
   "metadata": {},
   "outputs": [],
   "source": [
    "final_data = []"
   ]
  },
  {
   "cell_type": "code",
   "execution_count": 33,
   "metadata": {},
   "outputs": [],
   "source": [
    "final_data1 =[]"
   ]
  },
  {
   "cell_type": "code",
   "execution_count": 43,
   "metadata": {},
   "outputs": [
    {
     "ename": "IndexError",
     "evalue": "list index out of range",
     "output_type": "error",
     "traceback": [
      "\u001b[0;31m---------------------------------------------------------------------------\u001b[0m",
      "\u001b[0;31mIndexError\u001b[0m                                Traceback (most recent call last)",
      "\u001b[0;32m<ipython-input-43-e1e05c4f77d7>\u001b[0m in \u001b[0;36m<module>\u001b[0;34m\u001b[0m\n\u001b[1;32m      8\u001b[0m \u001b[0;34m\u001b[0m\u001b[0m\n\u001b[1;32m      9\u001b[0m             \u001b[0;31m# Table containing the box score data\u001b[0m\u001b[0;34m\u001b[0m\u001b[0;34m\u001b[0m\u001b[0;34m\u001b[0m\u001b[0m\n\u001b[0;32m---> 10\u001b[0;31m             \u001b[0mbox_table\u001b[0m \u001b[0;34m=\u001b[0m \u001b[0mbox_soup\u001b[0m\u001b[0;34m.\u001b[0m\u001b[0mfind_all\u001b[0m\u001b[0;34m(\u001b[0m\u001b[0;34m'table'\u001b[0m\u001b[0;34m,\u001b[0m\u001b[0mattrs\u001b[0m\u001b[0;34m=\u001b[0m\u001b[0;34m{\u001b[0m\u001b[0;34m'class'\u001b[0m\u001b[0;34m:\u001b[0m\u001b[0;34m'mod-data'\u001b[0m\u001b[0;34m}\u001b[0m\u001b[0;34m)\u001b[0m\u001b[0;34m[\u001b[0m\u001b[0;36m0\u001b[0m\u001b[0;34m]\u001b[0m\u001b[0;34m\u001b[0m\u001b[0;34m\u001b[0m\u001b[0m\n\u001b[0m\u001b[1;32m     11\u001b[0m \u001b[0;34m\u001b[0m\u001b[0m\n\u001b[1;32m     12\u001b[0m             \u001b[0mhome_team_container\u001b[0m \u001b[0;34m=\u001b[0m \u001b[0mbox_soup\u001b[0m\u001b[0;34m.\u001b[0m\u001b[0mfind_all\u001b[0m\u001b[0;34m(\u001b[0m\u001b[0;34m'div'\u001b[0m\u001b[0;34m,\u001b[0m \u001b[0mattrs\u001b[0m\u001b[0;34m=\u001b[0m\u001b[0;34m{\u001b[0m\u001b[0;34m'class'\u001b[0m\u001b[0;34m:\u001b[0m\u001b[0;34m'team home'\u001b[0m\u001b[0;34m}\u001b[0m\u001b[0;34m)\u001b[0m\u001b[0;34m\u001b[0m\u001b[0;34m\u001b[0m\u001b[0m\n",
      "\u001b[0;31mIndexError\u001b[0m: list index out of range"
     ]
    }
   ],
   "source": [
    "for team_abbr in list(teams.keys())[9:10]:\n",
    "#     for game_id in list(team_schedules[team_abbr].keys()):\n",
    "    for game_id in ['401070856','401070693']:\n",
    "        retries = 3\n",
    "        try:\n",
    "            box_url = request.urlopen('https://www.espn.com/nba/matchup?gameId='+game_id).read()\n",
    "            time.sleep(1)\n",
    "            box_soup = BeautifulSoup(box_url,'lxml')\n",
    "\n",
    "            # Table containing the box score data\n",
    "            box_table = box_soup.find_all('table',attrs={'class':'mod-data'})[0]\n",
    "\n",
    "            home_team_container = box_soup.find_all('div', attrs={'class':'team home'})\n",
    "            home_team_abbr = home_team_container[0].find_all('span', attrs={'class':'abbrev'})[0].text.lower()\n",
    "            home_team_pts = box_soup.find_all('div', attrs={'class': 'score icon-font-before'})[0].text\n",
    "\n",
    "            away_team_container = box_soup.find_all('div', attrs={'class':'team away'})\n",
    "            away_team_abbr = away_team_container[0].find_all('span', attrs={'class':'abbrev'})[0].text.lower()\n",
    "            away_team_pts = box_soup.find_all('div', attrs={'class': 'score icon-font-after'})[0].text\n",
    "\n",
    "            points = ['PTS', away_team_pts, home_team_pts]\n",
    "\n",
    "            # Table rows with an indent class\n",
    "            indents = box_table.find_all('tr', attrs={'class':'indent'})\n",
    "            # Table rows with a highlight class\n",
    "            highlights = box_table.find_all('tr', attrs={'class':'highlight'})\n",
    "\n",
    "            highlights_data = get_box_score(highlights)\n",
    "            indents_data = get_box_score(indents)\n",
    "\n",
    "            box_data = np.concatenate(([points],highlights_data,indents_data)).T\n",
    "\n",
    "            if team_abbr == away_team_abbr:\n",
    "                row = np.concatenate(([team_abbr,teams[team_abbr],game_id],team_schedules[team_abbr][game_id],box_data[1],\n",
    "                                      [home_team_abbr,teams[home_team_abbr]],box_data[2]))\n",
    "            else:\n",
    "                row = np.concatenate(([team_abbr,teams[team_abbr],game_id],team_schedules[team_abbr][game_id],box_data[2],\n",
    "                                      [away_team_abbr,teams[away_team_abbr]],box_data[1]))\n",
    "\n",
    "            final_data1.append(row)\n",
    "#         except:\n",
    "#             continue"
   ]
  },
  {
   "cell_type": "code",
   "execution_count": 39,
   "metadata": {},
   "outputs": [
    {
     "data": {
      "text/plain": [
       "array(['tor', 'Toronto Raptors', '401071887', 'Tue, Apr 9', '@', 'W',\n",
       "       '120', '46-88', '52.3', '16-37', '43.2', '12-17', '70.6', '64',\n",
       "       '24', '10', '5', '18', '19', '48', '17', '32', '7', '47', '17',\n",
       "       '0', '0', 'min', 'Minnesota Timberwolves', '100', '38-91', '41.8',\n",
       "       '13-42', '31.0', '11-14', '78.6', '39', '26', '10', '9', '12',\n",
       "       '14', '36', '16', '7', '5', '30', '14', '0', '0'], dtype='<U22')"
      ]
     },
     "execution_count": 39,
     "metadata": {},
     "output_type": "execute_result"
    }
   ],
   "source": [
    "\n",
    "final_data[-1]"
   ]
  },
  {
   "cell_type": "code",
   "execution_count": 19,
   "metadata": {},
   "outputs": [
    {
     "data": {
      "text/plain": [
       "'401070856'"
      ]
     },
     "execution_count": 19,
     "metadata": {},
     "output_type": "execute_result"
    }
   ],
   "source": [
    "retry_on_exceptions = (requests.exceptions.HTTPError, requests.exceptions.ConnectionError)\n",
    "except retry_on_exceptions:\n",
    "    time.sleep(5)\n",
    "else:\n",
    "    continue"
   ]
  },
  {
   "cell_type": "code",
   "execution_count": 41,
   "metadata": {},
   "outputs": [
    {
     "data": {
      "text/plain": [
       "('Sat, Nov 10', '@', 'L')"
      ]
     },
     "execution_count": 41,
     "metadata": {},
     "output_type": "execute_result"
    }
   ],
   "source": [
    "team_schedules['mil']['401070856']"
   ]
  },
  {
   "cell_type": "code",
   "execution_count": 42,
   "metadata": {},
   "outputs": [],
   "source": [
    "box_table = box_soup.find_all('table',attrs={'class':'mod-data'})[0]"
   ]
  },
  {
   "cell_type": "code",
   "execution_count": 10,
   "metadata": {},
   "outputs": [
    {
     "data": {
      "text/plain": [
       "array(['PTS', 'FG', 'Field Goal %', '3PT', 'Three Point %', 'FT',\n",
       "       'Free Throw %', 'Rebounds', 'Assists', 'Steals', 'Blocks',\n",
       "       'Total Turnovers', 'Fast Break Points', 'Points in Paint', 'Fouls',\n",
       "       'Largest Lead', 'Offensive Rebounds', 'Defensive Rebounds',\n",
       "       'Points Off Turnovers', 'Technical Fouls', 'Flagrant Fouls'],\n",
       "      dtype='<U20')"
      ]
     },
     "execution_count": 10,
     "metadata": {},
     "output_type": "execute_result"
    }
   ],
   "source": [
    "box_data[0]"
   ]
  },
  {
   "cell_type": "code",
   "execution_count": 6,
   "metadata": {},
   "outputs": [],
   "source": [
    "col_names = ['teamABBR', 'teamName','gameID', 'gameDate', 'gameLoc', 'teamResult', 'teamPTS', 'teamFG', 'teamFG%',\n",
    "             'team3PT', 'team3PT%', 'teamFT', 'teamFT%', 'teamTREB', 'teamASST', 'teamSTL', 'teamBLK',\n",
    "             'teamTO', 'teamFB_PTS', 'teamPNT_PTS', 'teamFOUL', 'teamLG_LEAD', 'teamOREB', 'teamDREB',\n",
    "             'teamTO_PTS', 'teamFOUL_T', 'teamFOUL_F',\n",
    "             'opptABBR', 'opptName', 'opptPTS', 'opptFG', 'opptFG%',\n",
    "             'oppt3PT', 'oppt3PT%', 'opptFT', 'opptFT%', 'opptTREB', 'opptASST', 'opptSTL', 'opptBLK',\n",
    "             'opptTO', 'opptFB_PTS', 'opptPNT_PTS', 'opptFOUL', 'opptLG_LEAD', 'opptOREB', 'opptDREB',\n",
    "             'opptTO_PTS', 'opptFOUL_T', 'opptFOUL_F']"
   ]
  },
  {
   "cell_type": "code",
   "execution_count": 7,
   "metadata": {},
   "outputs": [],
   "source": [
    "df = pd.DataFrame(final_data, columns=col_names)"
   ]
  },
  {
   "cell_type": "code",
   "execution_count": 8,
   "metadata": {},
   "outputs": [
    {
     "data": {
      "text/html": [
       "<div>\n",
       "<style scoped>\n",
       "    .dataframe tbody tr th:only-of-type {\n",
       "        vertical-align: middle;\n",
       "    }\n",
       "\n",
       "    .dataframe tbody tr th {\n",
       "        vertical-align: top;\n",
       "    }\n",
       "\n",
       "    .dataframe thead th {\n",
       "        text-align: right;\n",
       "    }\n",
       "</style>\n",
       "<table border=\"1\" class=\"dataframe\">\n",
       "  <thead>\n",
       "    <tr style=\"text-align: right;\">\n",
       "      <th></th>\n",
       "      <th>teamABBR</th>\n",
       "      <th>teamName</th>\n",
       "      <th>gameID</th>\n",
       "      <th>gameDate</th>\n",
       "      <th>gameLoc</th>\n",
       "      <th>teamResult</th>\n",
       "      <th>teamPTS</th>\n",
       "      <th>teamFG</th>\n",
       "      <th>teamFG%</th>\n",
       "      <th>team3PT</th>\n",
       "      <th>...</th>\n",
       "      <th>opptTO</th>\n",
       "      <th>opptFB_PTS</th>\n",
       "      <th>opptPNT_PTS</th>\n",
       "      <th>opptFOUL</th>\n",
       "      <th>opptLG_LEAD</th>\n",
       "      <th>opptOREB</th>\n",
       "      <th>opptDREB</th>\n",
       "      <th>opptTO_PTS</th>\n",
       "      <th>opptFOUL_T</th>\n",
       "      <th>opptFOUL_F</th>\n",
       "    </tr>\n",
       "  </thead>\n",
       "  <tbody>\n",
       "    <tr>\n",
       "      <th>0</th>\n",
       "      <td>bos</td>\n",
       "      <td>Boston Celtics</td>\n",
       "      <td>401070213</td>\n",
       "      <td>Tue, Oct 16</td>\n",
       "      <td>vs</td>\n",
       "      <td>W</td>\n",
       "      <td>105</td>\n",
       "      <td>42-97</td>\n",
       "      <td>43.3</td>\n",
       "      <td>11-37</td>\n",
       "      <td>...</td>\n",
       "      <td>16</td>\n",
       "      <td>16</td>\n",
       "      <td>50</td>\n",
       "      <td>20</td>\n",
       "      <td>4</td>\n",
       "      <td>6</td>\n",
       "      <td>41</td>\n",
       "      <td>14</td>\n",
       "      <td>0</td>\n",
       "      <td>0</td>\n",
       "    </tr>\n",
       "    <tr>\n",
       "      <th>1</th>\n",
       "      <td>bos</td>\n",
       "      <td>Boston Celtics</td>\n",
       "      <td>401070219</td>\n",
       "      <td>Fri, Oct 19</td>\n",
       "      <td>@</td>\n",
       "      <td>L</td>\n",
       "      <td>101</td>\n",
       "      <td>40-99</td>\n",
       "      <td>40.4</td>\n",
       "      <td>14-36</td>\n",
       "      <td>...</td>\n",
       "      <td>13</td>\n",
       "      <td>14</td>\n",
       "      <td>46</td>\n",
       "      <td>19</td>\n",
       "      <td>12</td>\n",
       "      <td>12</td>\n",
       "      <td>37</td>\n",
       "      <td>11</td>\n",
       "      <td>0</td>\n",
       "      <td>0</td>\n",
       "    </tr>\n",
       "    <tr>\n",
       "      <th>2</th>\n",
       "      <td>bos</td>\n",
       "      <td>Boston Celtics</td>\n",
       "      <td>401070711</td>\n",
       "      <td>Sat, Oct 20</td>\n",
       "      <td>@</td>\n",
       "      <td>W</td>\n",
       "      <td>103</td>\n",
       "      <td>33-82</td>\n",
       "      <td>40.2</td>\n",
       "      <td>9-25</td>\n",
       "      <td>...</td>\n",
       "      <td>16</td>\n",
       "      <td>11</td>\n",
       "      <td>40</td>\n",
       "      <td>25</td>\n",
       "      <td>1</td>\n",
       "      <td>11</td>\n",
       "      <td>35</td>\n",
       "      <td>15</td>\n",
       "      <td>0</td>\n",
       "      <td>0</td>\n",
       "    </tr>\n",
       "    <tr>\n",
       "      <th>3</th>\n",
       "      <td>bos</td>\n",
       "      <td>Boston Celtics</td>\n",
       "      <td>401070721</td>\n",
       "      <td>Mon, Oct 22</td>\n",
       "      <td>vs</td>\n",
       "      <td>L</td>\n",
       "      <td>90</td>\n",
       "      <td>37-91</td>\n",
       "      <td>40.7</td>\n",
       "      <td>9-40</td>\n",
       "      <td>...</td>\n",
       "      <td>9</td>\n",
       "      <td>6</td>\n",
       "      <td>42</td>\n",
       "      <td>15</td>\n",
       "      <td>13</td>\n",
       "      <td>8</td>\n",
       "      <td>41</td>\n",
       "      <td>9</td>\n",
       "      <td>0</td>\n",
       "      <td>0</td>\n",
       "    </tr>\n",
       "    <tr>\n",
       "      <th>4</th>\n",
       "      <td>bos</td>\n",
       "      <td>Boston Celtics</td>\n",
       "      <td>401070746</td>\n",
       "      <td>Thu, Oct 25</td>\n",
       "      <td>@</td>\n",
       "      <td>W</td>\n",
       "      <td>101</td>\n",
       "      <td>33-86</td>\n",
       "      <td>38.4</td>\n",
       "      <td>11-32</td>\n",
       "      <td>...</td>\n",
       "      <td>16</td>\n",
       "      <td>10</td>\n",
       "      <td>42</td>\n",
       "      <td>27</td>\n",
       "      <td>16</td>\n",
       "      <td>16</td>\n",
       "      <td>41</td>\n",
       "      <td>16</td>\n",
       "      <td>1</td>\n",
       "      <td>0</td>\n",
       "    </tr>\n",
       "    <tr>\n",
       "      <th>...</th>\n",
       "      <td>...</td>\n",
       "      <td>...</td>\n",
       "      <td>...</td>\n",
       "      <td>...</td>\n",
       "      <td>...</td>\n",
       "      <td>...</td>\n",
       "      <td>...</td>\n",
       "      <td>...</td>\n",
       "      <td>...</td>\n",
       "      <td>...</td>\n",
       "      <td>...</td>\n",
       "      <td>...</td>\n",
       "      <td>...</td>\n",
       "      <td>...</td>\n",
       "      <td>...</td>\n",
       "      <td>...</td>\n",
       "      <td>...</td>\n",
       "      <td>...</td>\n",
       "      <td>...</td>\n",
       "      <td>...</td>\n",
       "      <td>...</td>\n",
       "    </tr>\n",
       "    <tr>\n",
       "      <th>77</th>\n",
       "      <td>bos</td>\n",
       "      <td>Boston Celtics</td>\n",
       "      <td>401071826</td>\n",
       "      <td>Mon, Apr 1</td>\n",
       "      <td>vs</td>\n",
       "      <td>W</td>\n",
       "      <td>110</td>\n",
       "      <td>36-91</td>\n",
       "      <td>39.6</td>\n",
       "      <td>17-40</td>\n",
       "      <td>...</td>\n",
       "      <td>15</td>\n",
       "      <td>13</td>\n",
       "      <td>56</td>\n",
       "      <td>17</td>\n",
       "      <td>0</td>\n",
       "      <td>9</td>\n",
       "      <td>39</td>\n",
       "      <td>18</td>\n",
       "      <td>1</td>\n",
       "      <td>0</td>\n",
       "    </tr>\n",
       "    <tr>\n",
       "      <th>78</th>\n",
       "      <td>bos</td>\n",
       "      <td>Boston Celtics</td>\n",
       "      <td>401071843</td>\n",
       "      <td>Wed, Apr 3</td>\n",
       "      <td>@</td>\n",
       "      <td>W</td>\n",
       "      <td>112</td>\n",
       "      <td>38-80</td>\n",
       "      <td>47.5</td>\n",
       "      <td>9-24</td>\n",
       "      <td>...</td>\n",
       "      <td>15</td>\n",
       "      <td>4</td>\n",
       "      <td>46</td>\n",
       "      <td>23</td>\n",
       "      <td>3</td>\n",
       "      <td>16</td>\n",
       "      <td>31</td>\n",
       "      <td>12</td>\n",
       "      <td>2</td>\n",
       "      <td>0</td>\n",
       "    </tr>\n",
       "    <tr>\n",
       "      <th>79</th>\n",
       "      <td>bos</td>\n",
       "      <td>Boston Celtics</td>\n",
       "      <td>401071856</td>\n",
       "      <td>Fri, Apr 5</td>\n",
       "      <td>@</td>\n",
       "      <td>W</td>\n",
       "      <td>117</td>\n",
       "      <td>48-92</td>\n",
       "      <td>52.2</td>\n",
       "      <td>7-27</td>\n",
       "      <td>...</td>\n",
       "      <td>11</td>\n",
       "      <td>16</td>\n",
       "      <td>54</td>\n",
       "      <td>15</td>\n",
       "      <td>3</td>\n",
       "      <td>10</td>\n",
       "      <td>35</td>\n",
       "      <td>14</td>\n",
       "      <td>0</td>\n",
       "      <td>0</td>\n",
       "    </tr>\n",
       "    <tr>\n",
       "      <th>80</th>\n",
       "      <td>bos</td>\n",
       "      <td>Boston Celtics</td>\n",
       "      <td>401071876</td>\n",
       "      <td>Sun, Apr 7</td>\n",
       "      <td>vs</td>\n",
       "      <td>L</td>\n",
       "      <td>108</td>\n",
       "      <td>42-89</td>\n",
       "      <td>47.2</td>\n",
       "      <td>12-31</td>\n",
       "      <td>...</td>\n",
       "      <td>16</td>\n",
       "      <td>17</td>\n",
       "      <td>54</td>\n",
       "      <td>14</td>\n",
       "      <td>14</td>\n",
       "      <td>11</td>\n",
       "      <td>34</td>\n",
       "      <td>16</td>\n",
       "      <td>0</td>\n",
       "      <td>0</td>\n",
       "    </tr>\n",
       "    <tr>\n",
       "      <th>81</th>\n",
       "      <td>bos</td>\n",
       "      <td>Boston Celtics</td>\n",
       "      <td>401071884</td>\n",
       "      <td>Tue, Apr 9</td>\n",
       "      <td>@</td>\n",
       "      <td>W</td>\n",
       "      <td>116</td>\n",
       "      <td>45-99</td>\n",
       "      <td>45.5</td>\n",
       "      <td>15-44</td>\n",
       "      <td>...</td>\n",
       "      <td>15</td>\n",
       "      <td>7</td>\n",
       "      <td>44</td>\n",
       "      <td>18</td>\n",
       "      <td>21</td>\n",
       "      <td>13</td>\n",
       "      <td>45</td>\n",
       "      <td>20</td>\n",
       "      <td>0</td>\n",
       "      <td>0</td>\n",
       "    </tr>\n",
       "  </tbody>\n",
       "</table>\n",
       "<p>82 rows × 50 columns</p>\n",
       "</div>"
      ],
      "text/plain": [
       "   teamABBR        teamName     gameID     gameDate gameLoc teamResult  \\\n",
       "0       bos  Boston Celtics  401070213  Tue, Oct 16      vs          W   \n",
       "1       bos  Boston Celtics  401070219  Fri, Oct 19       @          L   \n",
       "2       bos  Boston Celtics  401070711  Sat, Oct 20       @          W   \n",
       "3       bos  Boston Celtics  401070721  Mon, Oct 22      vs          L   \n",
       "4       bos  Boston Celtics  401070746  Thu, Oct 25       @          W   \n",
       "..      ...             ...        ...          ...     ...        ...   \n",
       "77      bos  Boston Celtics  401071826   Mon, Apr 1      vs          W   \n",
       "78      bos  Boston Celtics  401071843   Wed, Apr 3       @          W   \n",
       "79      bos  Boston Celtics  401071856   Fri, Apr 5       @          W   \n",
       "80      bos  Boston Celtics  401071876   Sun, Apr 7      vs          L   \n",
       "81      bos  Boston Celtics  401071884   Tue, Apr 9       @          W   \n",
       "\n",
       "   teamPTS teamFG teamFG% team3PT  ... opptTO opptFB_PTS opptPNT_PTS opptFOUL  \\\n",
       "0      105  42-97    43.3   11-37  ...     16         16          50       20   \n",
       "1      101  40-99    40.4   14-36  ...     13         14          46       19   \n",
       "2      103  33-82    40.2    9-25  ...     16         11          40       25   \n",
       "3       90  37-91    40.7    9-40  ...      9          6          42       15   \n",
       "4      101  33-86    38.4   11-32  ...     16         10          42       27   \n",
       "..     ...    ...     ...     ...  ...    ...        ...         ...      ...   \n",
       "77     110  36-91    39.6   17-40  ...     15         13          56       17   \n",
       "78     112  38-80    47.5    9-24  ...     15          4          46       23   \n",
       "79     117  48-92    52.2    7-27  ...     11         16          54       15   \n",
       "80     108  42-89    47.2   12-31  ...     16         17          54       14   \n",
       "81     116  45-99    45.5   15-44  ...     15          7          44       18   \n",
       "\n",
       "   opptLG_LEAD opptOREB opptDREB opptTO_PTS opptFOUL_T opptFOUL_F  \n",
       "0            4        6       41         14          0          0  \n",
       "1           12       12       37         11          0          0  \n",
       "2            1       11       35         15          0          0  \n",
       "3           13        8       41          9          0          0  \n",
       "4           16       16       41         16          1          0  \n",
       "..         ...      ...      ...        ...        ...        ...  \n",
       "77           0        9       39         18          1          0  \n",
       "78           3       16       31         12          2          0  \n",
       "79           3       10       35         14          0          0  \n",
       "80          14       11       34         16          0          0  \n",
       "81          21       13       45         20          0          0  \n",
       "\n",
       "[82 rows x 50 columns]"
      ]
     },
     "execution_count": 8,
     "metadata": {},
     "output_type": "execute_result"
    }
   ],
   "source": [
    "df"
   ]
  },
  {
   "cell_type": "code",
   "execution_count": 9,
   "metadata": {},
   "outputs": [
    {
     "data": {
      "text/plain": [
       "2460"
      ]
     },
     "execution_count": 9,
     "metadata": {},
     "output_type": "execute_result"
    }
   ],
   "source": [
    "df.to_csv('../data/nba_team_box_scores_'+str(year)+'.csv')"
   ]
  },
  {
   "cell_type": "code",
   "execution_count": 9,
   "metadata": {},
   "outputs": [
    {
     "data": {
      "text/plain": [
       "['bos', 'bkn', 'ny', 'phi', 'tor']"
      ]
     },
     "execution_count": 9,
     "metadata": {},
     "output_type": "execute_result"
    }
   ],
   "source": [
    "list(teams.keys())[0:5]"
   ]
  },
  {
   "cell_type": "code",
   "execution_count": 13,
   "metadata": {},
   "outputs": [
    {
     "data": {
      "text/plain": [
       "['chi',\n",
       " 'cle',\n",
       " 'det',\n",
       " 'ind',\n",
       " 'mil',\n",
       " 'den',\n",
       " 'min',\n",
       " 'okc',\n",
       " 'por',\n",
       " 'utah',\n",
       " 'gs',\n",
       " 'lac',\n",
       " 'lal',\n",
       " 'phx',\n",
       " 'sac',\n",
       " 'atl',\n",
       " 'cha',\n",
       " 'mia',\n",
       " 'orl',\n",
       " 'wsh',\n",
       " 'dal',\n",
       " 'hou',\n",
       " 'mem',\n",
       " 'no',\n",
       " 'sa']"
      ]
     },
     "execution_count": 13,
     "metadata": {},
     "output_type": "execute_result"
    }
   ],
   "source": [
    "list(teams.keys())[5:]"
   ]
  },
  {
   "cell_type": "code",
   "execution_count": null,
   "metadata": {},
   "outputs": [],
   "source": []
  }
 ],
 "metadata": {
  "kernelspec": {
   "display_name": "Python 3",
   "language": "python",
   "name": "python3"
  },
  "language_info": {
   "codemirror_mode": {
    "name": "ipython",
    "version": 3
   },
   "file_extension": ".py",
   "mimetype": "text/x-python",
   "name": "python",
   "nbconvert_exporter": "python",
   "pygments_lexer": "ipython3",
   "version": "3.8.3"
  }
 },
 "nbformat": 4,
 "nbformat_minor": 4
}
