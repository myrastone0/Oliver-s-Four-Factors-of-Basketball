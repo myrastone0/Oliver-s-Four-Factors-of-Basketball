{
 "cells": [
  {
   "cell_type": "markdown",
   "metadata": {},
   "source": [
    "# NBA Box Scores: Exploratory Data Analysis with Pandas, Matplotlib, and Numpy (Part 3 of ?)"
   ]
  },
  {
   "cell_type": "code",
   "execution_count": 1,
   "metadata": {},
   "outputs": [],
   "source": [
    "import pandas as pd\n",
    "import numpy as np\n",
    "import matplotlib.pyplot as plt\n",
    "\n",
    "%matplotlib inline"
   ]
  },
  {
   "cell_type": "code",
   "execution_count": 2,
   "metadata": {},
   "outputs": [],
   "source": [
    "year = '2019'\n",
    "df = pd.read_csv('../data/nba_team_box_scores_'+str(year)+'_cleaned.csv')"
   ]
  },
  {
   "cell_type": "code",
   "execution_count": 3,
   "metadata": {},
   "outputs": [
    {
     "name": "stdout",
     "output_type": "stream",
     "text": [
      "<class 'pandas.core.frame.DataFrame'>\n",
      "RangeIndex: 2458 entries, 0 to 2457\n",
      "Data columns (total 65 columns):\n",
      " #   Column        Non-Null Count  Dtype  \n",
      "---  ------        --------------  -----  \n",
      " 0   Unnamed: 0    2458 non-null   int64  \n",
      " 1   teamABBR      2458 non-null   object \n",
      " 2   teamName      2458 non-null   object \n",
      " 3   gameID        2458 non-null   int64  \n",
      " 4   gameDate      2458 non-null   object \n",
      " 5   teamPTS       2458 non-null   int64  \n",
      " 6   teamFG        2458 non-null   object \n",
      " 7   teamFG%       2458 non-null   float64\n",
      " 8   team3PT       2458 non-null   object \n",
      " 9   team3PT%      2458 non-null   float64\n",
      " 10  teamFT        2458 non-null   object \n",
      " 11  teamFT%       2458 non-null   float64\n",
      " 12  teamTREB      2458 non-null   int64  \n",
      " 13  teamASST      2458 non-null   int64  \n",
      " 14  teamSTL       2458 non-null   int64  \n",
      " 15  teamBLK       2458 non-null   int64  \n",
      " 16  teamTO        2458 non-null   int64  \n",
      " 17  teamFB_PTS    2458 non-null   int64  \n",
      " 18  teamPNT_PTS   2458 non-null   int64  \n",
      " 19  teamFOUL      2458 non-null   int64  \n",
      " 20  teamLG_LEAD   2458 non-null   int64  \n",
      " 21  teamOREB      2458 non-null   int64  \n",
      " 22  teamDREB      2458 non-null   int64  \n",
      " 23  teamTO_PTS    2458 non-null   int64  \n",
      " 24  teamFOUL_T    2458 non-null   int64  \n",
      " 25  teamFOUL_F    2458 non-null   int64  \n",
      " 26  opptABBR      2458 non-null   object \n",
      " 27  opptName      2458 non-null   object \n",
      " 28  opptPTS       2458 non-null   int64  \n",
      " 29  opptFG        2458 non-null   object \n",
      " 30  opptFG%       2458 non-null   float64\n",
      " 31  oppt3PT       2458 non-null   object \n",
      " 32  oppt3PT%      2458 non-null   float64\n",
      " 33  opptFT        2458 non-null   object \n",
      " 34  opptFT%       2458 non-null   float64\n",
      " 35  opptTREB      2458 non-null   int64  \n",
      " 36  opptASST      2458 non-null   int64  \n",
      " 37  opptSTL       2458 non-null   int64  \n",
      " 38  opptBLK       2458 non-null   int64  \n",
      " 39  opptTO        2458 non-null   int64  \n",
      " 40  opptFB_PTS    2458 non-null   int64  \n",
      " 41  opptPNT_PTS   2458 non-null   int64  \n",
      " 42  opptFOUL      2458 non-null   int64  \n",
      " 43  opptLG_LEAD   2458 non-null   int64  \n",
      " 44  opptOREB      2458 non-null   int64  \n",
      " 45  opptDREB      2458 non-null   int64  \n",
      " 46  opptTO_PTS    2458 non-null   int64  \n",
      " 47  opptFOUL_T    2458 non-null   int64  \n",
      " 48  opptFOUL_F    2458 non-null   int64  \n",
      " 49  teamFGM       2458 non-null   int64  \n",
      " 50  teamFGA       2458 non-null   int64  \n",
      " 51  opptFGM       2458 non-null   int64  \n",
      " 52  opptFGA       2458 non-null   int64  \n",
      " 53  team3PTM      2458 non-null   int64  \n",
      " 54  team3PTA      2458 non-null   int64  \n",
      " 55  oppt3PTM      2458 non-null   int64  \n",
      " 56  oppt3PTA      2458 non-null   int64  \n",
      " 57  teamFTM       2458 non-null   int64  \n",
      " 58  teamFTA       2458 non-null   int64  \n",
      " 59  opptFTM       2458 non-null   int64  \n",
      " 60  opptFTA       2458 non-null   int64  \n",
      " 61  gameLoc_@     2458 non-null   int64  \n",
      " 62  gameLoc_vs    2458 non-null   int64  \n",
      " 63  teamResult_L  2458 non-null   int64  \n",
      " 64  teamResult_W  2458 non-null   int64  \n",
      "dtypes: float64(6), int64(48), object(11)\n",
      "memory usage: 1.2+ MB\n"
     ]
    }
   ],
   "source": [
    "df.info()"
   ]
  },
  {
   "cell_type": "code",
   "execution_count": null,
   "metadata": {},
   "outputs": [],
   "source": []
  }
 ],
 "metadata": {
  "kernelspec": {
   "display_name": "Python 3",
   "language": "python",
   "name": "python3"
  },
  "language_info": {
   "codemirror_mode": {
    "name": "ipython",
    "version": 3
   },
   "file_extension": ".py",
   "mimetype": "text/x-python",
   "name": "python",
   "nbconvert_exporter": "python",
   "pygments_lexer": "ipython3",
   "version": "3.8.3"
  }
 },
 "nbformat": 4,
 "nbformat_minor": 4
}
